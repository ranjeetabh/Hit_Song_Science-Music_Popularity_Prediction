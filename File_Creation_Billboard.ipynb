{
 "cells": [
  {
   "cell_type": "code",
   "execution_count": 104,
   "metadata": {},
   "outputs": [],
   "source": [
    "import requests\n",
    "from bs4 import BeautifulSoup\n",
    "import re\n",
    "import pandas as pd\n",
    "import pickle\n",
    "import string\n",
    "from dateutil import parser\n",
    "import billboard"
   ]
  },
  {
   "cell_type": "code",
   "execution_count": 105,
   "metadata": {},
   "outputs": [],
   "source": [
    "#chart = billboard.ChartData('billboard-200/2019-02-01')\n",
    "#new_chart = billboard.ChartData('hot-100/2019-09-01')"
   ]
  },
  {
   "cell_type": "code",
   "execution_count": 106,
   "metadata": {},
   "outputs": [],
   "source": [
    "billboard_df = pd.DataFrame()\n",
    "\n",
    "for i in range (1,5):\n",
    "    i = str(i)\n",
    "    string = \"hot-100/2019-0\"+i+\"-01\"\n",
    "    new_chart = billboard.ChartData(string)\n",
    "    for item in new_chart:\n",
    "        billboard_df = billboard_df.append(pd.Series(item, index=['track_name']), ignore_index=True)\n",
    "    i = int(i)\n",
    "    i += 1"
   ]
  },
  {
   "cell_type": "code",
   "execution_count": 107,
   "metadata": {},
   "outputs": [
    {
     "data": {
      "text/plain": [
       "(400, 1)"
      ]
     },
     "execution_count": 107,
     "metadata": {},
     "output_type": "execute_result"
    }
   ],
   "source": [
    "billboard_df.shape"
   ]
  },
  {
   "cell_type": "code",
   "execution_count": 109,
   "metadata": {
    "scrolled": true
   },
   "outputs": [],
   "source": [
    "billboard_df_1 = pd.DataFrame()\n",
    "\n",
    "for i in range (10,13):\n",
    "    i = str(i)\n",
    "    string = \"hot-100/2019-\"+i+\"-01\"\n",
    "    new_chart = billboard.ChartData(string)\n",
    "    for item in new_chart:\n",
    "        #print(item)\n",
    "        billboard_df_1 = billboard_df_1.append(pd.Series(item, index=['track_name']), ignore_index=True)\n",
    "    i = int(i)\n",
    "    i += 1\n",
    "    \n",
    "#final_chart = pd.DataFrame()\n",
    "#final_chart = new_chart[0:5]\n",
    "\n",
    "#type(final_chart)"
   ]
  },
  {
   "cell_type": "code",
   "execution_count": 110,
   "metadata": {},
   "outputs": [
    {
     "data": {
      "text/plain": [
       "(0, 0)"
      ]
     },
     "execution_count": 110,
     "metadata": {},
     "output_type": "execute_result"
    }
   ],
   "source": [
    "billboard_df_1.shape"
   ]
  },
  {
   "cell_type": "code",
   "execution_count": 111,
   "metadata": {},
   "outputs": [],
   "source": [
    "frames = [billboard_df, billboard_df_1]\n",
    "billboard_final = pd.concat(frames)"
   ]
  },
  {
   "cell_type": "code",
   "execution_count": 112,
   "metadata": {},
   "outputs": [
    {
     "data": {
      "text/plain": [
       "(400, 1)"
      ]
     },
     "execution_count": 112,
     "metadata": {},
     "output_type": "execute_result"
    }
   ],
   "source": [
    "billboard_final.shape"
   ]
  },
  {
   "cell_type": "code",
   "execution_count": 113,
   "metadata": {},
   "outputs": [],
   "source": [
    "#billboard_final.drop_duplicates(subset=['track_name'], inplace=True)"
   ]
  },
  {
   "cell_type": "code",
   "execution_count": 114,
   "metadata": {},
   "outputs": [],
   "source": [
    "#billboard_final.shape"
   ]
  },
  {
   "cell_type": "code",
   "execution_count": 115,
   "metadata": {},
   "outputs": [],
   "source": [
    "billboard_final.to_csv('billboard_2019.csv')"
   ]
  },
  {
   "cell_type": "code",
   "execution_count": 116,
   "metadata": {},
   "outputs": [],
   "source": [
    "billboard_final = pd.read_csv('billboard_2019.csv')"
   ]
  },
  {
   "cell_type": "code",
   "execution_count": 117,
   "metadata": {},
   "outputs": [],
   "source": [
    "billboard_final.drop_duplicates(subset=['track_name'], inplace=True)"
   ]
  },
  {
   "cell_type": "code",
   "execution_count": 118,
   "metadata": {},
   "outputs": [
    {
     "data": {
      "text/html": [
       "<div>\n",
       "<style scoped>\n",
       "    .dataframe tbody tr th:only-of-type {\n",
       "        vertical-align: middle;\n",
       "    }\n",
       "\n",
       "    .dataframe tbody tr th {\n",
       "        vertical-align: top;\n",
       "    }\n",
       "\n",
       "    .dataframe thead th {\n",
       "        text-align: right;\n",
       "    }\n",
       "</style>\n",
       "<table border=\"1\" class=\"dataframe\">\n",
       "  <thead>\n",
       "    <tr style=\"text-align: right;\">\n",
       "      <th></th>\n",
       "      <th>Unnamed: 0</th>\n",
       "      <th>track_name</th>\n",
       "    </tr>\n",
       "  </thead>\n",
       "  <tbody>\n",
       "    <tr>\n",
       "      <th>0</th>\n",
       "      <td>0</td>\n",
       "      <td>'Thank U, Next' by Ariana Grande</td>\n",
       "    </tr>\n",
       "    <tr>\n",
       "      <th>1</th>\n",
       "      <td>1</td>\n",
       "      <td>'Without Me' by Halsey</td>\n",
       "    </tr>\n",
       "    <tr>\n",
       "      <th>2</th>\n",
       "      <td>2</td>\n",
       "      <td>'All I Want For Christmas Is You' by Mariah Carey</td>\n",
       "    </tr>\n",
       "    <tr>\n",
       "      <th>3</th>\n",
       "      <td>3</td>\n",
       "      <td>'Sicko Mode' by Travis Scott</td>\n",
       "    </tr>\n",
       "    <tr>\n",
       "      <th>4</th>\n",
       "      <td>4</td>\n",
       "      <td>'Sunflower (Spider-Man: Into The Spider-Verse)...</td>\n",
       "    </tr>\n",
       "  </tbody>\n",
       "</table>\n",
       "</div>"
      ],
      "text/plain": [
       "   Unnamed: 0                                         track_name\n",
       "0           0                   'Thank U, Next' by Ariana Grande\n",
       "1           1                             'Without Me' by Halsey\n",
       "2           2  'All I Want For Christmas Is You' by Mariah Carey\n",
       "3           3                       'Sicko Mode' by Travis Scott\n",
       "4           4  'Sunflower (Spider-Man: Into The Spider-Verse)..."
      ]
     },
     "execution_count": 118,
     "metadata": {},
     "output_type": "execute_result"
    }
   ],
   "source": [
    "billboard_final.shape\n",
    "\n",
    "billboard_final.head()\n",
    "\n",
    "\n",
    "#for item in final_chart:\n",
    "#    print (item)"
   ]
  },
  {
   "cell_type": "code",
   "execution_count": 119,
   "metadata": {},
   "outputs": [
    {
     "data": {
      "text/html": [
       "<div>\n",
       "<style scoped>\n",
       "    .dataframe tbody tr th:only-of-type {\n",
       "        vertical-align: middle;\n",
       "    }\n",
       "\n",
       "    .dataframe tbody tr th {\n",
       "        vertical-align: top;\n",
       "    }\n",
       "\n",
       "    .dataframe thead th {\n",
       "        text-align: right;\n",
       "    }\n",
       "</style>\n",
       "<table border=\"1\" class=\"dataframe\">\n",
       "  <thead>\n",
       "    <tr style=\"text-align: right;\">\n",
       "      <th></th>\n",
       "      <th>track_name</th>\n",
       "    </tr>\n",
       "  </thead>\n",
       "  <tbody>\n",
       "    <tr>\n",
       "      <th>0</th>\n",
       "      <td>'Thank U, Next' by Ariana Grande</td>\n",
       "    </tr>\n",
       "    <tr>\n",
       "      <th>1</th>\n",
       "      <td>'Without Me' by Halsey</td>\n",
       "    </tr>\n",
       "    <tr>\n",
       "      <th>2</th>\n",
       "      <td>'All I Want For Christmas Is You' by Mariah Carey</td>\n",
       "    </tr>\n",
       "    <tr>\n",
       "      <th>3</th>\n",
       "      <td>'Sicko Mode' by Travis Scott</td>\n",
       "    </tr>\n",
       "    <tr>\n",
       "      <th>4</th>\n",
       "      <td>'Sunflower (Spider-Man: Into The Spider-Verse)...</td>\n",
       "    </tr>\n",
       "  </tbody>\n",
       "</table>\n",
       "</div>"
      ],
      "text/plain": [
       "                                          track_name\n",
       "0                   'Thank U, Next' by Ariana Grande\n",
       "1                             'Without Me' by Halsey\n",
       "2  'All I Want For Christmas Is You' by Mariah Carey\n",
       "3                       'Sicko Mode' by Travis Scott\n",
       "4  'Sunflower (Spider-Man: Into The Spider-Verse)..."
      ]
     },
     "execution_count": 119,
     "metadata": {},
     "output_type": "execute_result"
    }
   ],
   "source": [
    "billboard_final.to_csv('billboard_2019.csv')\n",
    "billboard_df.head()"
   ]
  },
  {
   "cell_type": "code",
   "execution_count": 5,
   "metadata": {},
   "outputs": [],
   "source": [
    "#audio_df = pd.DataFrame([[\"Finesse\", 12], [\"Havana\", 4],[\"This Is Me\", 13] ],\n",
    "#                        columns = [\"track_name\", \"track_id\"])\n",
    "#audio_df.head()\n",
    "\n",
    "#type(audio_df)"
   ]
  },
  {
   "cell_type": "code",
   "execution_count": 3,
   "metadata": {},
   "outputs": [
    {
     "data": {
      "text/plain": [
       "'\\ncount = 0\\n\\ndef find_target(row):\\n    #print(\"row[\\'track_name\\']:\",row[\\'track_name\\'])\\n    #print(\"\\n\")\\n    #print(type(row[\\'track_name\\']))\\n    #print(\"\\n\")\\n    #print(\"Final Chart: \",final_chart)\\n    #print(\"\\n\")\\n    #print(type(final_chart))\\n    #print(\"\\n\")\\n    \\n    if row[\\'track_name\\'] in str(final_chart):\\n        print(\"inside\")\\n        return 1\\n        count +=1 \\n    else:\\n        print(\"outside\")\\n        return 0\\n'"
      ]
     },
     "execution_count": 3,
     "metadata": {},
     "output_type": "execute_result"
    }
   ],
   "source": [
    "'''\n",
    "count = 0\n",
    "\n",
    "def find_target(row):\n",
    "    #print(\"row['track_name']:\",row['track_name'])\n",
    "    #print(\"\\n\")\n",
    "    #print(type(row['track_name']))\n",
    "    #print(\"\\n\")\n",
    "    #print(\"Final Chart: \",final_chart)\n",
    "    #print(\"\\n\")\n",
    "    #print(type(final_chart))\n",
    "    #print(\"\\n\")\n",
    "    \n",
    "    if row['track_name'] in str(final_chart):\n",
    "        print(\"inside\")\n",
    "        return 1\n",
    "        count +=1 \n",
    "    else:\n",
    "        print(\"outside\")\n",
    "        return 0\n",
    "'''"
   ]
  },
  {
   "cell_type": "code",
   "execution_count": 4,
   "metadata": {},
   "outputs": [],
   "source": [
    "#audio_df['bbhot'] = audio_df.apply(find_target, axis=1)\n",
    "\n",
    "#audio_df.head()\n"
   ]
  },
  {
   "cell_type": "markdown",
   "metadata": {},
   "source": []
  },
  {
   "cell_type": "code",
   "execution_count": 168,
   "metadata": {},
   "outputs": [],
   "source": [
    "#billboard_df = pd.DataFrame()\n",
    "\n",
    "#for item in new_chart:\n",
    "#    billboard_df = billboard_df.append(pd.Series(item, index=['track_name']), ignore_index=True)"
   ]
  },
  {
   "cell_type": "code",
   "execution_count": 169,
   "metadata": {},
   "outputs": [
    {
     "data": {
      "text/html": [
       "<div>\n",
       "<style scoped>\n",
       "    .dataframe tbody tr th:only-of-type {\n",
       "        vertical-align: middle;\n",
       "    }\n",
       "\n",
       "    .dataframe tbody tr th {\n",
       "        vertical-align: top;\n",
       "    }\n",
       "\n",
       "    .dataframe thead th {\n",
       "        text-align: right;\n",
       "    }\n",
       "</style>\n",
       "<table border=\"1\" class=\"dataframe\">\n",
       "  <thead>\n",
       "    <tr style=\"text-align: right;\">\n",
       "      <th></th>\n",
       "      <th>track_name</th>\n",
       "    </tr>\n",
       "  </thead>\n",
       "  <tbody>\n",
       "    <tr>\n",
       "      <th>0</th>\n",
       "      <td>'7 Rings' by Ariana Grande</td>\n",
       "    </tr>\n",
       "    <tr>\n",
       "      <th>1</th>\n",
       "      <td>'Without Me' by Halsey</td>\n",
       "    </tr>\n",
       "    <tr>\n",
       "      <th>2</th>\n",
       "      <td>'Sunflower (Spider-Man: Into The Spider-Verse)...</td>\n",
       "    </tr>\n",
       "    <tr>\n",
       "      <th>3</th>\n",
       "      <td>'Thank U, Next' by Ariana Grande</td>\n",
       "    </tr>\n",
       "    <tr>\n",
       "      <th>4</th>\n",
       "      <td>'Sicko Mode' by Travis Scott</td>\n",
       "    </tr>\n",
       "  </tbody>\n",
       "</table>\n",
       "</div>"
      ],
      "text/plain": [
       "                                          track_name\n",
       "0                         '7 Rings' by Ariana Grande\n",
       "1                             'Without Me' by Halsey\n",
       "2  'Sunflower (Spider-Man: Into The Spider-Verse)...\n",
       "3                   'Thank U, Next' by Ariana Grande\n",
       "4                       'Sicko Mode' by Travis Scott"
      ]
     },
     "execution_count": 169,
     "metadata": {},
     "output_type": "execute_result"
    }
   ],
   "source": [
    "#billboard_df.head()"
   ]
  },
  {
   "cell_type": "code",
   "execution_count": 210,
   "metadata": {},
   "outputs": [],
   "source": [
    "billboard_df.to_csv('billboard.csv')"
   ]
  },
  {
   "cell_type": "code",
   "execution_count": 211,
   "metadata": {},
   "outputs": [],
   "source": [
    "billboard_df = pd.read_csv('billboard.csv')"
   ]
  },
  {
   "cell_type": "code",
   "execution_count": 212,
   "metadata": {},
   "outputs": [],
   "source": [
    "billboard_df.drop_duplicates(subset=['track_name'], inplace=True)"
   ]
  },
  {
   "cell_type": "code",
   "execution_count": 213,
   "metadata": {},
   "outputs": [
    {
     "data": {
      "text/plain": [
       "(169, 2)"
      ]
     },
     "execution_count": 213,
     "metadata": {},
     "output_type": "execute_result"
    }
   ],
   "source": [
    "billboard_df.shape"
   ]
  },
  {
   "cell_type": "code",
   "execution_count": 177,
   "metadata": {},
   "outputs": [],
   "source": [
    "#billboard_df1 = pd.DataFrame()\n",
    "\n",
    "#for item in new_chart1:\n",
    "#    billboard_df1 = billboard_df1.append(pd.Series(item, index=['track_name']), ignore_index=True)"
   ]
  },
  {
   "cell_type": "code",
   "execution_count": 178,
   "metadata": {},
   "outputs": [
    {
     "data": {
      "text/html": [
       "<div>\n",
       "<style scoped>\n",
       "    .dataframe tbody tr th:only-of-type {\n",
       "        vertical-align: middle;\n",
       "    }\n",
       "\n",
       "    .dataframe tbody tr th {\n",
       "        vertical-align: top;\n",
       "    }\n",
       "\n",
       "    .dataframe thead th {\n",
       "        text-align: right;\n",
       "    }\n",
       "</style>\n",
       "<table border=\"1\" class=\"dataframe\">\n",
       "  <thead>\n",
       "    <tr style=\"text-align: right;\">\n",
       "      <th></th>\n",
       "      <th>track_name</th>\n",
       "    </tr>\n",
       "  </thead>\n",
       "  <tbody>\n",
       "    <tr>\n",
       "      <th>0</th>\n",
       "      <td>'Thank U, Next' by Ariana Grande</td>\n",
       "    </tr>\n",
       "    <tr>\n",
       "      <th>1</th>\n",
       "      <td>'Sicko Mode' by Travis Scott</td>\n",
       "    </tr>\n",
       "    <tr>\n",
       "      <th>2</th>\n",
       "      <td>'Happier' by Marshmello &amp; Bastille</td>\n",
       "    </tr>\n",
       "    <tr>\n",
       "      <th>3</th>\n",
       "      <td>'Without Me' by Halsey</td>\n",
       "    </tr>\n",
       "    <tr>\n",
       "      <th>4</th>\n",
       "      <td>'Lucid Dreams' by Juice WRLD</td>\n",
       "    </tr>\n",
       "  </tbody>\n",
       "</table>\n",
       "</div>"
      ],
      "text/plain": [
       "                           track_name\n",
       "0    'Thank U, Next' by Ariana Grande\n",
       "1        'Sicko Mode' by Travis Scott\n",
       "2  'Happier' by Marshmello & Bastille\n",
       "3              'Without Me' by Halsey\n",
       "4        'Lucid Dreams' by Juice WRLD"
      ]
     },
     "execution_count": 178,
     "metadata": {},
     "output_type": "execute_result"
    }
   ],
   "source": [
    "#billboard_df1.head()"
   ]
  },
  {
   "cell_type": "code",
   "execution_count": 179,
   "metadata": {},
   "outputs": [],
   "source": [
    "billboard_df.to_csv('billboard_2019.csv')"
   ]
  },
  {
   "cell_type": "code",
   "execution_count": 180,
   "metadata": {},
   "outputs": [],
   "source": [
    "billboard_df1 = pd.read_csv('billboard_2019.csv')"
   ]
  },
  {
   "cell_type": "code",
   "execution_count": 181,
   "metadata": {},
   "outputs": [],
   "source": [
    "billboard_df1.drop_duplicates(subset=['track_name'], inplace=True)"
   ]
  },
  {
   "cell_type": "code",
   "execution_count": 182,
   "metadata": {},
   "outputs": [
    {
     "data": {
      "text/plain": [
       "(100, 2)"
      ]
     },
     "execution_count": 182,
     "metadata": {},
     "output_type": "execute_result"
    }
   ],
   "source": [
    "billboard_df.shape"
   ]
  },
  {
   "cell_type": "code",
   "execution_count": 186,
   "metadata": {},
   "outputs": [],
   "source": [
    "frames = [billboard_df, billboard_df1]\n",
    "billboard_final = pd.concat(frames)"
   ]
  },
  {
   "cell_type": "code",
   "execution_count": 187,
   "metadata": {},
   "outputs": [
    {
     "data": {
      "text/plain": [
       "(200, 2)"
      ]
     },
     "execution_count": 187,
     "metadata": {},
     "output_type": "execute_result"
    }
   ],
   "source": [
    "billboard_final.shape"
   ]
  },
  {
   "cell_type": "code",
   "execution_count": 188,
   "metadata": {},
   "outputs": [],
   "source": [
    "billboard_final.drop_duplicates(subset=['track_name'], inplace=True)"
   ]
  },
  {
   "cell_type": "code",
   "execution_count": 189,
   "metadata": {},
   "outputs": [
    {
     "data": {
      "text/plain": [
       "(150, 2)"
      ]
     },
     "execution_count": 189,
     "metadata": {},
     "output_type": "execute_result"
    }
   ],
   "source": [
    "billboard_final.shape"
   ]
  },
  {
   "cell_type": "code",
   "execution_count": 121,
   "metadata": {},
   "outputs": [],
   "source": [
    "## Merging all files and creating one\n",
    "\n",
    "billboard_2019 = pd.DataFrame()\n",
    "billboard_2018 = pd.DataFrame()\n",
    "billboard_2017 = pd.DataFrame()\n",
    "billboard_2016 = pd.DataFrame()\n",
    "billboard_2015 = pd.DataFrame()"
   ]
  },
  {
   "cell_type": "code",
   "execution_count": 122,
   "metadata": {},
   "outputs": [],
   "source": [
    "billboard_2019 = pd.read_csv('billboard_2019.csv')\n",
    "billboard_2018 = pd.read_csv('billboard_2018.csv')\n",
    "billboard_2017 = pd.read_csv('billboard_2017.csv')\n",
    "billboard_2016 = pd.read_csv('billboard_2016.csv')\n",
    "billboard_2015 = pd.read_csv('billboard_2015.csv')"
   ]
  },
  {
   "cell_type": "code",
   "execution_count": 123,
   "metadata": {},
   "outputs": [],
   "source": [
    "billboard_merged = pd.DataFrame()"
   ]
  },
  {
   "cell_type": "code",
   "execution_count": 124,
   "metadata": {},
   "outputs": [],
   "source": [
    "frames = [billboard_2019, billboard_2018, billboard_2017, billboard_2016, billboard_2015]\n",
    "billboard_merged = pd.concat(frames)"
   ]
  },
  {
   "cell_type": "code",
   "execution_count": 138,
   "metadata": {},
   "outputs": [
    {
     "data": {
      "text/plain": [
       "(1492, 3)"
      ]
     },
     "execution_count": 138,
     "metadata": {},
     "output_type": "execute_result"
    }
   ],
   "source": [
    "billboard_merged.shape"
   ]
  },
  {
   "cell_type": "code",
   "execution_count": 139,
   "metadata": {},
   "outputs": [],
   "source": [
    "billboard_merged.drop_duplicates(subset=['track_name'], inplace=True)"
   ]
  },
  {
   "cell_type": "code",
   "execution_count": 140,
   "metadata": {},
   "outputs": [
    {
     "data": {
      "text/plain": [
       "(1492, 3)"
      ]
     },
     "execution_count": 140,
     "metadata": {},
     "output_type": "execute_result"
    }
   ],
   "source": [
    "billboard_merged.shape"
   ]
  },
  {
   "cell_type": "code",
   "execution_count": 131,
   "metadata": {},
   "outputs": [],
   "source": [
    "billboard_merged.to_csv('billboard_cleaned_final.csv', index=False)"
   ]
  },
  {
   "cell_type": "code",
   "execution_count": 141,
   "metadata": {},
   "outputs": [],
   "source": [
    "## Reading spotify files and merging\n",
    "\n",
    "spotify_2019 = pd.DataFrame()\n",
    "spotify_2018 = pd.DataFrame()\n",
    "spotify_2017 = pd.DataFrame()\n",
    "spotify_2016 = pd.DataFrame()\n",
    "spotify_2015 = pd.DataFrame()"
   ]
  },
  {
   "cell_type": "code",
   "execution_count": 142,
   "metadata": {},
   "outputs": [],
   "source": [
    "spotify_2019 = pd.read_csv('Spotify_final_2019.csv')\n",
    "spotify_2018 = pd.read_csv('Spotify_final_2018.csv')\n",
    "spotify_2017 = pd.read_csv('Spotify_final_2017.csv')\n",
    "spotify_2016 = pd.read_csv('Spotify_final_2016.csv')\n",
    "spotify_2015 = pd.read_csv('Spotify_final_2015.csv')"
   ]
  },
  {
   "cell_type": "code",
   "execution_count": 143,
   "metadata": {},
   "outputs": [],
   "source": [
    "frames_new = [spotify_2019, spotify_2018, spotify_2017, spotify_2016, spotify_2015]\n",
    "spotify_merged = pd.concat(frames)"
   ]
  },
  {
   "cell_type": "code",
   "execution_count": 146,
   "metadata": {},
   "outputs": [
    {
     "data": {
      "text/plain": [
       "(7544, 23)"
      ]
     },
     "execution_count": 146,
     "metadata": {},
     "output_type": "execute_result"
    }
   ],
   "source": [
    "spotify_2019.shape"
   ]
  },
  {
   "cell_type": "code",
   "execution_count": 147,
   "metadata": {},
   "outputs": [
    {
     "data": {
      "text/plain": [
       "(7544, 23)"
      ]
     },
     "execution_count": 147,
     "metadata": {},
     "output_type": "execute_result"
    }
   ],
   "source": [
    "spotify_2018.shape"
   ]
  },
  {
   "cell_type": "code",
   "execution_count": null,
   "metadata": {},
   "outputs": [],
   "source": []
  }
 ],
 "metadata": {
  "kernelspec": {
   "display_name": "Python 3",
   "language": "python",
   "name": "python3"
  },
  "language_info": {
   "codemirror_mode": {
    "name": "ipython",
    "version": 3
   },
   "file_extension": ".py",
   "mimetype": "text/x-python",
   "name": "python",
   "nbconvert_exporter": "python",
   "pygments_lexer": "ipython3",
   "version": "3.7.1"
  }
 },
 "nbformat": 4,
 "nbformat_minor": 2
}
