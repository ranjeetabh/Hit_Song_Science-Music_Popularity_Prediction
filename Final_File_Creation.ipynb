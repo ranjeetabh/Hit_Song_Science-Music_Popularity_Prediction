{
 "cells": [
  {
   "cell_type": "code",
   "execution_count": 10,
   "metadata": {},
   "outputs": [],
   "source": [
    "# Importing Essential Libraries\n",
    "\n",
    "import spotipy\n",
    "from spotipy.oauth2 import SpotifyClientCredentials\n",
    "import requests as rq\n",
    "import pandas as pd\n",
    "import billboard\n",
    "import json\n",
    "import datetime\n",
    "import csv"
   ]
  },
  {
   "cell_type": "code",
   "execution_count": 11,
   "metadata": {},
   "outputs": [],
   "source": [
    "# Connecting to spotify platform\n",
    "\n",
    "cid =\"bd71a8abc67c44c2b84cb87d03da7ddf\" \n",
    "secret = \"99ff1c63dd2e4d38a4260d75021ba905\"\n",
    "\n",
    "client_credentials_manager = SpotifyClientCredentials(client_id=cid, client_secret=secret)\n",
    "sp = spotipy.Spotify(client_credentials_manager=client_credentials_manager)"
   ]
  },
  {
   "cell_type": "code",
   "execution_count": 12,
   "metadata": {},
   "outputs": [
    {
     "name": "stdout",
     "output_type": "stream",
     "text": [
      "BQAq3dgVK5S-zoy2mXBRLwiDfTqv5TGBouAY1VCnQht9hbDmW6yEyu85LmfFXDdBlqiC9IN7BYBzLU_bf4c\n"
     ]
    }
   ],
   "source": [
    "# Creating access token for connection\n",
    "\n",
    "grant_type='client_credentials'\n",
    "\n",
    "body_params = {'grant_type' : grant_type}\n",
    "\n",
    "# returns authorization token for API requests\n",
    "# https://stackoverflow.com/questions/27554994/spotify-api-authentication-with-python\n",
    "\n",
    "auth = rq.post(\"https://accounts.spotify.com/api/token\", data = body_params, auth = (cid, secret)).json()\n",
    "\n",
    "#print(auth)\n",
    "token = auth[\"access_token\"]\n",
    "print(token)\n"
   ]
  },
  {
   "cell_type": "code",
   "execution_count": 16,
   "metadata": {},
   "outputs": [],
   "source": [
    "# Creating empty lists where the results are going to be stored\n",
    "\n",
    "artist_name = []\n",
    "track_name = []\n",
    "popularity = []\n",
    "track_id = []\n",
    "\n",
    "for i in range(0,10000,50):\n",
    "    #track_results = sp.search(q='year:2014', type='track', limit=50,offset=i)\n",
    "    track_results = sp.search(q='kill this love', type='track', limit=50,offset=i)\n",
    "    for i, t in enumerate(track_results['tracks']['items']):\n",
    "        artist_name.append(t['artists'][0]['name'])\n",
    "        track_name.append(t['name'])\n",
    "        track_id.append(t['id'])\n",
    "        popularity.append(t['popularity'])"
   ]
  },
  {
   "cell_type": "code",
   "execution_count": 17,
   "metadata": {},
   "outputs": [
    {
     "name": "stdout",
     "output_type": "stream",
     "text": [
      "Number of artists:  53\n",
      "Number of tracks:  53\n",
      "Popularity:  53\n"
     ]
    }
   ],
   "source": [
    "print(\"Number of artists: \",len(artist_name))\n",
    "print(\"Number of tracks: \",len(track_id))\n",
    "print(\"Popularity: \",len(popularity))"
   ]
  },
  {
   "cell_type": "code",
   "execution_count": 18,
   "metadata": {},
   "outputs": [
    {
     "name": "stdout",
     "output_type": "stream",
     "text": [
      "(53, 4)\n"
     ]
    },
    {
     "data": {
      "text/html": [
       "<div>\n",
       "<style scoped>\n",
       "    .dataframe tbody tr th:only-of-type {\n",
       "        vertical-align: middle;\n",
       "    }\n",
       "\n",
       "    .dataframe tbody tr th {\n",
       "        vertical-align: top;\n",
       "    }\n",
       "\n",
       "    .dataframe thead th {\n",
       "        text-align: right;\n",
       "    }\n",
       "</style>\n",
       "<table border=\"1\" class=\"dataframe\">\n",
       "  <thead>\n",
       "    <tr style=\"text-align: right;\">\n",
       "      <th></th>\n",
       "      <th>artist_name</th>\n",
       "      <th>track_name</th>\n",
       "      <th>track_id</th>\n",
       "      <th>popularity</th>\n",
       "    </tr>\n",
       "  </thead>\n",
       "  <tbody>\n",
       "    <tr>\n",
       "      <th>0</th>\n",
       "      <td>BLACKPINK</td>\n",
       "      <td>Kill This Love</td>\n",
       "      <td>18PergoIrGmRyeYxnaXJN2</td>\n",
       "      <td>88</td>\n",
       "    </tr>\n",
       "    <tr>\n",
       "      <th>1</th>\n",
       "      <td>BLACKPINK</td>\n",
       "      <td>Don't Know What To Do</td>\n",
       "      <td>0zYqFyhiTj419q56lNsjk0</td>\n",
       "      <td>78</td>\n",
       "    </tr>\n",
       "    <tr>\n",
       "      <th>2</th>\n",
       "      <td>BLACKPINK</td>\n",
       "      <td>Kick It</td>\n",
       "      <td>6Ks1e4WEUeOGgnTGZ4IMXo</td>\n",
       "      <td>74</td>\n",
       "    </tr>\n",
       "    <tr>\n",
       "      <th>3</th>\n",
       "      <td>BLACKPINK</td>\n",
       "      <td>Hope Not</td>\n",
       "      <td>7mW8ar9hy7GSeH4lohyOKs</td>\n",
       "      <td>71</td>\n",
       "    </tr>\n",
       "    <tr>\n",
       "      <th>4</th>\n",
       "      <td>BLACKPINK</td>\n",
       "      <td>DDU-DU DDU-DU - Remix</td>\n",
       "      <td>4HGLNErVXyaDEjHvk3cL5B</td>\n",
       "      <td>70</td>\n",
       "    </tr>\n",
       "    <tr>\n",
       "      <th>5</th>\n",
       "      <td>Epik High</td>\n",
       "      <td>Kill This Love</td>\n",
       "      <td>3Cu2cZW292bhfGEl7j6plB</td>\n",
       "      <td>39</td>\n",
       "    </tr>\n",
       "    <tr>\n",
       "      <th>6</th>\n",
       "      <td>Emma Heesters</td>\n",
       "      <td>Kill This Love - English Version</td>\n",
       "      <td>263gK4BL5GQPBvTB3XFxFV</td>\n",
       "      <td>38</td>\n",
       "    </tr>\n",
       "    <tr>\n",
       "      <th>7</th>\n",
       "      <td>Funguypiano</td>\n",
       "      <td>Kill This Love (Piano Solo)</td>\n",
       "      <td>33bUdw03wlfP1kMwiY7LqD</td>\n",
       "      <td>0</td>\n",
       "    </tr>\n",
       "    <tr>\n",
       "      <th>8</th>\n",
       "      <td>Master Andross</td>\n",
       "      <td>Kill This Love</td>\n",
       "      <td>7JlUwCaxJGZXFlwAApRlC1</td>\n",
       "      <td>19</td>\n",
       "    </tr>\n",
       "    <tr>\n",
       "      <th>9</th>\n",
       "      <td>Nightcore God</td>\n",
       "      <td>Kill This Love</td>\n",
       "      <td>3GrcRR8uZM515mR4LyJKh3</td>\n",
       "      <td>14</td>\n",
       "    </tr>\n",
       "    <tr>\n",
       "      <th>10</th>\n",
       "      <td>R E V E R I E</td>\n",
       "      <td>Kill This Love (Lullaby)</td>\n",
       "      <td>09haPcF2bgRZob8l1z4sed</td>\n",
       "      <td>6</td>\n",
       "    </tr>\n",
       "    <tr>\n",
       "      <th>11</th>\n",
       "      <td>8-Bit Arcade</td>\n",
       "      <td>Kill This Love (8-Bit BLACKPINK Emulation)</td>\n",
       "      <td>6PxDEIkqbro95ZMIljBpKj</td>\n",
       "      <td>7</td>\n",
       "    </tr>\n",
       "    <tr>\n",
       "      <th>12</th>\n",
       "      <td>I Kill Cameron</td>\n",
       "      <td>Juxtapose (This is Indeed A Love Song)</td>\n",
       "      <td>5u8thCfDo7VjIAIVpjzULx</td>\n",
       "      <td>2</td>\n",
       "    </tr>\n",
       "    <tr>\n",
       "      <th>13</th>\n",
       "      <td>JJ. Turner</td>\n",
       "      <td>Kill This Love - Instrumental</td>\n",
       "      <td>6xydv7E48gBZjTNh3MGFu9</td>\n",
       "      <td>2</td>\n",
       "    </tr>\n",
       "    <tr>\n",
       "      <th>14</th>\n",
       "      <td>Cold Trae Kenshin</td>\n",
       "      <td>Kill for This Love</td>\n",
       "      <td>2LVpEPwJvR5GrCmkZ0IIkn</td>\n",
       "      <td>0</td>\n",
       "    </tr>\n",
       "    <tr>\n",
       "      <th>15</th>\n",
       "      <td>JJ. Turner</td>\n",
       "      <td>Kill This Love</td>\n",
       "      <td>2oCIp9DZ4yJ9WiyPkjv6JI</td>\n",
       "      <td>0</td>\n",
       "    </tr>\n",
       "    <tr>\n",
       "      <th>16</th>\n",
       "      <td>ComeOnBear</td>\n",
       "      <td>Kill this Love</td>\n",
       "      <td>5S8e2bzLQDbjKHAwMJ6PAC</td>\n",
       "      <td>0</td>\n",
       "    </tr>\n",
       "    <tr>\n",
       "      <th>17</th>\n",
       "      <td>Zeliwipin</td>\n",
       "      <td>Kill This Love</td>\n",
       "      <td>35KANuTKqdgCDHAyvQYED8</td>\n",
       "      <td>0</td>\n",
       "    </tr>\n",
       "    <tr>\n",
       "      <th>18</th>\n",
       "      <td>Death By Audio</td>\n",
       "      <td>This Love Will Kill Us</td>\n",
       "      <td>7rokeP51VwgFGGrlqRoMo0</td>\n",
       "      <td>0</td>\n",
       "    </tr>\n",
       "    <tr>\n",
       "      <th>19</th>\n",
       "      <td>Marc Tomé</td>\n",
       "      <td>I Will Kill This Love</td>\n",
       "      <td>3UGY9JUB51Luz61aVmIRqh</td>\n",
       "      <td>1</td>\n",
       "    </tr>\n",
       "    <tr>\n",
       "      <th>20</th>\n",
       "      <td>Nobody</td>\n",
       "      <td>Kill God</td>\n",
       "      <td>3w82MZw8KHgQXhJcf3cV9E</td>\n",
       "      <td>0</td>\n",
       "    </tr>\n",
       "    <tr>\n",
       "      <th>21</th>\n",
       "      <td>Ray Phillips</td>\n",
       "      <td>This Thing Called Love</td>\n",
       "      <td>3nDypHDoYfN7vWvFxO1Y0p</td>\n",
       "      <td>0</td>\n",
       "    </tr>\n",
       "    <tr>\n",
       "      <th>22</th>\n",
       "      <td>Polaroid Faces</td>\n",
       "      <td>Love This Way</td>\n",
       "      <td>3xwyIzyIn21ftn13cNuExs</td>\n",
       "      <td>0</td>\n",
       "    </tr>\n",
       "    <tr>\n",
       "      <th>23</th>\n",
       "      <td>Boa Constrictors</td>\n",
       "      <td>I Hope This Love Doesn't Kill Me</td>\n",
       "      <td>6UiEPbBp4nyhT35E5m8rSN</td>\n",
       "      <td>1</td>\n",
       "    </tr>\n",
       "    <tr>\n",
       "      <th>24</th>\n",
       "      <td>Dean Fraser</td>\n",
       "      <td>Is This Love</td>\n",
       "      <td>4SKFZT0BK7SR9FZRoNCJad</td>\n",
       "      <td>2</td>\n",
       "    </tr>\n",
       "    <tr>\n",
       "      <th>25</th>\n",
       "      <td>Jake Newton</td>\n",
       "      <td>Love Shouldn't Be This Hard</td>\n",
       "      <td>7t3sck7Rrb2PJl6MhAzUN0</td>\n",
       "      <td>0</td>\n",
       "    </tr>\n",
       "    <tr>\n",
       "      <th>26</th>\n",
       "      <td>Elliot &amp; The Ghost</td>\n",
       "      <td>I'll Kill That Man</td>\n",
       "      <td>6BeUCxfZydl4JLgFdMsdw0</td>\n",
       "      <td>2</td>\n",
       "    </tr>\n",
       "    <tr>\n",
       "      <th>27</th>\n",
       "      <td>Jake La Botz</td>\n",
       "      <td>Hard To Love What You Kill</td>\n",
       "      <td>4osLdE2AT9YeCcfFVFEYgI</td>\n",
       "      <td>3</td>\n",
       "    </tr>\n",
       "    <tr>\n",
       "      <th>28</th>\n",
       "      <td>Re.An</td>\n",
       "      <td>Love Song for You</td>\n",
       "      <td>495iOd6SnvmO8NzusPFK80</td>\n",
       "      <td>0</td>\n",
       "    </tr>\n",
       "    <tr>\n",
       "      <th>29</th>\n",
       "      <td>The Dynamite Blues Band</td>\n",
       "      <td>This Ain't Over</td>\n",
       "      <td>4G2iuv4AoKFbqDTbPXcdx7</td>\n",
       "      <td>2</td>\n",
       "    </tr>\n",
       "  </tbody>\n",
       "</table>\n",
       "</div>"
      ],
      "text/plain": [
       "                artist_name                                  track_name  \\\n",
       "0                 BLACKPINK                              Kill This Love   \n",
       "1                 BLACKPINK                       Don't Know What To Do   \n",
       "2                 BLACKPINK                                     Kick It   \n",
       "3                 BLACKPINK                                    Hope Not   \n",
       "4                 BLACKPINK                       DDU-DU DDU-DU - Remix   \n",
       "5                 Epik High                              Kill This Love   \n",
       "6             Emma Heesters            Kill This Love - English Version   \n",
       "7               Funguypiano                 Kill This Love (Piano Solo)   \n",
       "8            Master Andross                              Kill This Love   \n",
       "9             Nightcore God                              Kill This Love   \n",
       "10            R E V E R I E                    Kill This Love (Lullaby)   \n",
       "11             8-Bit Arcade  Kill This Love (8-Bit BLACKPINK Emulation)   \n",
       "12           I Kill Cameron      Juxtapose (This is Indeed A Love Song)   \n",
       "13               JJ. Turner               Kill This Love - Instrumental   \n",
       "14        Cold Trae Kenshin                          Kill for This Love   \n",
       "15               JJ. Turner                              Kill This Love   \n",
       "16               ComeOnBear                              Kill this Love   \n",
       "17                Zeliwipin                              Kill This Love   \n",
       "18           Death By Audio                      This Love Will Kill Us   \n",
       "19                Marc Tomé                       I Will Kill This Love   \n",
       "20                   Nobody                                    Kill God   \n",
       "21             Ray Phillips                      This Thing Called Love   \n",
       "22           Polaroid Faces                               Love This Way   \n",
       "23         Boa Constrictors            I Hope This Love Doesn't Kill Me   \n",
       "24              Dean Fraser                                Is This Love   \n",
       "25              Jake Newton                 Love Shouldn't Be This Hard   \n",
       "26       Elliot & The Ghost                          I'll Kill That Man   \n",
       "27             Jake La Botz                  Hard To Love What You Kill   \n",
       "28                    Re.An                           Love Song for You   \n",
       "29  The Dynamite Blues Band                             This Ain't Over   \n",
       "\n",
       "                  track_id  popularity  \n",
       "0   18PergoIrGmRyeYxnaXJN2          88  \n",
       "1   0zYqFyhiTj419q56lNsjk0          78  \n",
       "2   6Ks1e4WEUeOGgnTGZ4IMXo          74  \n",
       "3   7mW8ar9hy7GSeH4lohyOKs          71  \n",
       "4   4HGLNErVXyaDEjHvk3cL5B          70  \n",
       "5   3Cu2cZW292bhfGEl7j6plB          39  \n",
       "6   263gK4BL5GQPBvTB3XFxFV          38  \n",
       "7   33bUdw03wlfP1kMwiY7LqD           0  \n",
       "8   7JlUwCaxJGZXFlwAApRlC1          19  \n",
       "9   3GrcRR8uZM515mR4LyJKh3          14  \n",
       "10  09haPcF2bgRZob8l1z4sed           6  \n",
       "11  6PxDEIkqbro95ZMIljBpKj           7  \n",
       "12  5u8thCfDo7VjIAIVpjzULx           2  \n",
       "13  6xydv7E48gBZjTNh3MGFu9           2  \n",
       "14  2LVpEPwJvR5GrCmkZ0IIkn           0  \n",
       "15  2oCIp9DZ4yJ9WiyPkjv6JI           0  \n",
       "16  5S8e2bzLQDbjKHAwMJ6PAC           0  \n",
       "17  35KANuTKqdgCDHAyvQYED8           0  \n",
       "18  7rokeP51VwgFGGrlqRoMo0           0  \n",
       "19  3UGY9JUB51Luz61aVmIRqh           1  \n",
       "20  3w82MZw8KHgQXhJcf3cV9E           0  \n",
       "21  3nDypHDoYfN7vWvFxO1Y0p           0  \n",
       "22  3xwyIzyIn21ftn13cNuExs           0  \n",
       "23  6UiEPbBp4nyhT35E5m8rSN           1  \n",
       "24  4SKFZT0BK7SR9FZRoNCJad           2  \n",
       "25  7t3sck7Rrb2PJl6MhAzUN0           0  \n",
       "26  6BeUCxfZydl4JLgFdMsdw0           2  \n",
       "27  4osLdE2AT9YeCcfFVFEYgI           3  \n",
       "28  495iOd6SnvmO8NzusPFK80           0  \n",
       "29  4G2iuv4AoKFbqDTbPXcdx7           2  "
      ]
     },
     "execution_count": 18,
     "metadata": {},
     "output_type": "execute_result"
    }
   ],
   "source": [
    "df_tracks = pd.DataFrame({'artist_name':artist_name,\n",
    "                          'track_name':track_name,\n",
    "                          'track_id':track_id,\n",
    "                          'popularity':popularity})\n",
    "print(df_tracks.shape)\n",
    "df_tracks.head(30)"
   ]
  },
  {
   "cell_type": "code",
   "execution_count": null,
   "metadata": {},
   "outputs": [],
   "source": [
    "# Extracting audio features for every track\n",
    "\n",
    "rows = []\n",
    "batchsize = 100\n",
    "None_counter = 0\n",
    "\n",
    "for i in range(1,len(df_tracks['track_id']),batchsize):\n",
    "    batch = df_tracks['track_id'][i:i+batchsize]\n",
    "    feature_results = sp.audio_features(type = 'artist', batch)\n",
    "    for i, t in enumerate(feature_results):\n",
    "        if t == None:\n",
    "            None_counter = None_counter + 1\n",
    "        else:\n",
    "            rows.append(t)\n",
    "            \n",
    "print('Number of tracks where no audio features were available:',None_counter)\n",
    "\n",
    "#print(feature_results)\n",
    "\n",
    "print('number of elements in the track_id list:', len(rows))"
   ]
  },
  {
   "cell_type": "code",
   "execution_count": 153,
   "metadata": {},
   "outputs": [
    {
     "name": "stdout",
     "output_type": "stream",
     "text": [
      "Shape of the dataset: (9999, 18)\n"
     ]
    },
    {
     "data": {
      "text/html": [
       "<div>\n",
       "<style scoped>\n",
       "    .dataframe tbody tr th:only-of-type {\n",
       "        vertical-align: middle;\n",
       "    }\n",
       "\n",
       "    .dataframe tbody tr th {\n",
       "        vertical-align: top;\n",
       "    }\n",
       "\n",
       "    .dataframe thead th {\n",
       "        text-align: right;\n",
       "    }\n",
       "</style>\n",
       "<table border=\"1\" class=\"dataframe\">\n",
       "  <thead>\n",
       "    <tr style=\"text-align: right;\">\n",
       "      <th></th>\n",
       "      <th>acousticness</th>\n",
       "      <th>analysis_url</th>\n",
       "      <th>danceability</th>\n",
       "      <th>duration_ms</th>\n",
       "      <th>energy</th>\n",
       "      <th>id</th>\n",
       "      <th>instrumentalness</th>\n",
       "      <th>key</th>\n",
       "      <th>liveness</th>\n",
       "      <th>loudness</th>\n",
       "      <th>mode</th>\n",
       "      <th>speechiness</th>\n",
       "      <th>tempo</th>\n",
       "      <th>time_signature</th>\n",
       "      <th>track_href</th>\n",
       "      <th>type</th>\n",
       "      <th>uri</th>\n",
       "      <th>valence</th>\n",
       "    </tr>\n",
       "  </thead>\n",
       "  <tbody>\n",
       "    <tr>\n",
       "      <th>0</th>\n",
       "      <td>0.0752</td>\n",
       "      <td>https://api.spotify.com/v1/audio-analysis/6Ius...</td>\n",
       "      <td>0.504</td>\n",
       "      <td>239320</td>\n",
       "      <td>0.705</td>\n",
       "      <td>6Ius4TC0L3cN74HT7ENE6e</td>\n",
       "      <td>0.000000</td>\n",
       "      <td>6</td>\n",
       "      <td>0.128</td>\n",
       "      <td>-8.205</td>\n",
       "      <td>0</td>\n",
       "      <td>0.3640</td>\n",
       "      <td>175.483</td>\n",
       "      <td>4</td>\n",
       "      <td>https://api.spotify.com/v1/tracks/6Ius4TC0L3cN...</td>\n",
       "      <td>audio_features</td>\n",
       "      <td>spotify:track:6Ius4TC0L3cN74HT7ENE6e</td>\n",
       "      <td>0.584</td>\n",
       "    </tr>\n",
       "    <tr>\n",
       "      <th>1</th>\n",
       "      <td>0.6340</td>\n",
       "      <td>https://api.spotify.com/v1/audio-analysis/1CS7...</td>\n",
       "      <td>0.566</td>\n",
       "      <td>241693</td>\n",
       "      <td>0.664</td>\n",
       "      <td>1CS7Sd1u5tWkstBhpssyjP</td>\n",
       "      <td>0.000000</td>\n",
       "      <td>4</td>\n",
       "      <td>0.116</td>\n",
       "      <td>-5.303</td>\n",
       "      <td>0</td>\n",
       "      <td>0.0464</td>\n",
       "      <td>128.945</td>\n",
       "      <td>4</td>\n",
       "      <td>https://api.spotify.com/v1/tracks/1CS7Sd1u5tWk...</td>\n",
       "      <td>audio_features</td>\n",
       "      <td>spotify:track:1CS7Sd1u5tWkstBhpssyjP</td>\n",
       "      <td>0.437</td>\n",
       "    </tr>\n",
       "    <tr>\n",
       "      <th>2</th>\n",
       "      <td>0.4310</td>\n",
       "      <td>https://api.spotify.com/v1/audio-analysis/3Jvr...</td>\n",
       "      <td>0.484</td>\n",
       "      <td>204280</td>\n",
       "      <td>0.731</td>\n",
       "      <td>3JvrhDOgAt6p7K8mDyZwRd</td>\n",
       "      <td>0.000000</td>\n",
       "      <td>1</td>\n",
       "      <td>0.151</td>\n",
       "      <td>-6.694</td>\n",
       "      <td>1</td>\n",
       "      <td>0.0379</td>\n",
       "      <td>101.654</td>\n",
       "      <td>4</td>\n",
       "      <td>https://api.spotify.com/v1/tracks/3JvrhDOgAt6p...</td>\n",
       "      <td>audio_features</td>\n",
       "      <td>spotify:track:3JvrhDOgAt6p7K8mDyZwRd</td>\n",
       "      <td>0.510</td>\n",
       "    </tr>\n",
       "    <tr>\n",
       "      <th>3</th>\n",
       "      <td>0.5880</td>\n",
       "      <td>https://api.spotify.com/v1/audio-analysis/5Nm9...</td>\n",
       "      <td>0.418</td>\n",
       "      <td>172724</td>\n",
       "      <td>0.420</td>\n",
       "      <td>5Nm9ERjJZ5oyfXZTECKmRt</td>\n",
       "      <td>0.000064</td>\n",
       "      <td>0</td>\n",
       "      <td>0.110</td>\n",
       "      <td>-6.444</td>\n",
       "      <td>1</td>\n",
       "      <td>0.0414</td>\n",
       "      <td>84.094</td>\n",
       "      <td>4</td>\n",
       "      <td>https://api.spotify.com/v1/tracks/5Nm9ERjJZ5oy...</td>\n",
       "      <td>audio_features</td>\n",
       "      <td>spotify:track:5Nm9ERjJZ5oyfXZTECKmRt</td>\n",
       "      <td>0.184</td>\n",
       "    </tr>\n",
       "    <tr>\n",
       "      <th>4</th>\n",
       "      <td>0.0930</td>\n",
       "      <td>https://api.spotify.com/v1/audio-analysis/7xoU...</td>\n",
       "      <td>0.628</td>\n",
       "      <td>197267</td>\n",
       "      <td>0.593</td>\n",
       "      <td>7xoUc6faLbCqZO6fQEYprd</td>\n",
       "      <td>0.000002</td>\n",
       "      <td>8</td>\n",
       "      <td>0.096</td>\n",
       "      <td>-5.036</td>\n",
       "      <td>1</td>\n",
       "      <td>0.0323</td>\n",
       "      <td>125.026</td>\n",
       "      <td>4</td>\n",
       "      <td>https://api.spotify.com/v1/tracks/7xoUc6faLbCq...</td>\n",
       "      <td>audio_features</td>\n",
       "      <td>spotify:track:7xoUc6faLbCqZO6fQEYprd</td>\n",
       "      <td>0.104</td>\n",
       "    </tr>\n",
       "  </tbody>\n",
       "</table>\n",
       "</div>"
      ],
      "text/plain": [
       "   acousticness                                       analysis_url  \\\n",
       "0        0.0752  https://api.spotify.com/v1/audio-analysis/6Ius...   \n",
       "1        0.6340  https://api.spotify.com/v1/audio-analysis/1CS7...   \n",
       "2        0.4310  https://api.spotify.com/v1/audio-analysis/3Jvr...   \n",
       "3        0.5880  https://api.spotify.com/v1/audio-analysis/5Nm9...   \n",
       "4        0.0930  https://api.spotify.com/v1/audio-analysis/7xoU...   \n",
       "\n",
       "   danceability  duration_ms  energy                      id  \\\n",
       "0         0.504       239320   0.705  6Ius4TC0L3cN74HT7ENE6e   \n",
       "1         0.566       241693   0.664  1CS7Sd1u5tWkstBhpssyjP   \n",
       "2         0.484       204280   0.731  3JvrhDOgAt6p7K8mDyZwRd   \n",
       "3         0.418       172724   0.420  5Nm9ERjJZ5oyfXZTECKmRt   \n",
       "4         0.628       197267   0.593  7xoUc6faLbCqZO6fQEYprd   \n",
       "\n",
       "   instrumentalness  key  liveness  loudness  mode  speechiness    tempo  \\\n",
       "0          0.000000    6     0.128    -8.205     0       0.3640  175.483   \n",
       "1          0.000000    4     0.116    -5.303     0       0.0464  128.945   \n",
       "2          0.000000    1     0.151    -6.694     1       0.0379  101.654   \n",
       "3          0.000064    0     0.110    -6.444     1       0.0414   84.094   \n",
       "4          0.000002    8     0.096    -5.036     1       0.0323  125.026   \n",
       "\n",
       "   time_signature                                         track_href  \\\n",
       "0               4  https://api.spotify.com/v1/tracks/6Ius4TC0L3cN...   \n",
       "1               4  https://api.spotify.com/v1/tracks/1CS7Sd1u5tWk...   \n",
       "2               4  https://api.spotify.com/v1/tracks/3JvrhDOgAt6p...   \n",
       "3               4  https://api.spotify.com/v1/tracks/5Nm9ERjJZ5oy...   \n",
       "4               4  https://api.spotify.com/v1/tracks/7xoUc6faLbCq...   \n",
       "\n",
       "             type                                   uri  valence  \n",
       "0  audio_features  spotify:track:6Ius4TC0L3cN74HT7ENE6e    0.584  \n",
       "1  audio_features  spotify:track:1CS7Sd1u5tWkstBhpssyjP    0.437  \n",
       "2  audio_features  spotify:track:3JvrhDOgAt6p7K8mDyZwRd    0.510  \n",
       "3  audio_features  spotify:track:5Nm9ERjJZ5oyfXZTECKmRt    0.184  \n",
       "4  audio_features  spotify:track:7xoUc6faLbCqZO6fQEYprd    0.104  "
      ]
     },
     "execution_count": 153,
     "metadata": {},
     "output_type": "execute_result"
    }
   ],
   "source": [
    "df_audio_features = pd.DataFrame.from_dict(rows,orient='columns')\n",
    "print(\"Shape of the dataset:\", df_audio_features.shape)\n",
    "df_audio_features.head()"
   ]
  },
  {
   "cell_type": "code",
   "execution_count": 155,
   "metadata": {},
   "outputs": [
    {
     "data": {
      "text/html": [
       "<div>\n",
       "<style scoped>\n",
       "    .dataframe tbody tr th:only-of-type {\n",
       "        vertical-align: middle;\n",
       "    }\n",
       "\n",
       "    .dataframe tbody tr th {\n",
       "        vertical-align: top;\n",
       "    }\n",
       "\n",
       "    .dataframe thead th {\n",
       "        text-align: right;\n",
       "    }\n",
       "</style>\n",
       "<table border=\"1\" class=\"dataframe\">\n",
       "  <thead>\n",
       "    <tr style=\"text-align: right;\">\n",
       "      <th></th>\n",
       "      <th>acousticness</th>\n",
       "      <th>analysis_url</th>\n",
       "      <th>danceability</th>\n",
       "      <th>duration_ms</th>\n",
       "      <th>energy</th>\n",
       "      <th>track_id</th>\n",
       "      <th>instrumentalness</th>\n",
       "      <th>key</th>\n",
       "      <th>liveness</th>\n",
       "      <th>loudness</th>\n",
       "      <th>mode</th>\n",
       "      <th>speechiness</th>\n",
       "      <th>tempo</th>\n",
       "      <th>time_signature</th>\n",
       "      <th>track_href</th>\n",
       "      <th>type</th>\n",
       "      <th>uri</th>\n",
       "      <th>valence</th>\n",
       "    </tr>\n",
       "  </thead>\n",
       "  <tbody>\n",
       "    <tr>\n",
       "      <th>0</th>\n",
       "      <td>0.0752</td>\n",
       "      <td>https://api.spotify.com/v1/audio-analysis/6Ius...</td>\n",
       "      <td>0.504</td>\n",
       "      <td>239320</td>\n",
       "      <td>0.705</td>\n",
       "      <td>6Ius4TC0L3cN74HT7ENE6e</td>\n",
       "      <td>0.000000</td>\n",
       "      <td>6</td>\n",
       "      <td>0.128</td>\n",
       "      <td>-8.205</td>\n",
       "      <td>0</td>\n",
       "      <td>0.3640</td>\n",
       "      <td>175.483</td>\n",
       "      <td>4</td>\n",
       "      <td>https://api.spotify.com/v1/tracks/6Ius4TC0L3cN...</td>\n",
       "      <td>audio_features</td>\n",
       "      <td>spotify:track:6Ius4TC0L3cN74HT7ENE6e</td>\n",
       "      <td>0.584</td>\n",
       "    </tr>\n",
       "    <tr>\n",
       "      <th>1</th>\n",
       "      <td>0.6340</td>\n",
       "      <td>https://api.spotify.com/v1/audio-analysis/1CS7...</td>\n",
       "      <td>0.566</td>\n",
       "      <td>241693</td>\n",
       "      <td>0.664</td>\n",
       "      <td>1CS7Sd1u5tWkstBhpssyjP</td>\n",
       "      <td>0.000000</td>\n",
       "      <td>4</td>\n",
       "      <td>0.116</td>\n",
       "      <td>-5.303</td>\n",
       "      <td>0</td>\n",
       "      <td>0.0464</td>\n",
       "      <td>128.945</td>\n",
       "      <td>4</td>\n",
       "      <td>https://api.spotify.com/v1/tracks/1CS7Sd1u5tWk...</td>\n",
       "      <td>audio_features</td>\n",
       "      <td>spotify:track:1CS7Sd1u5tWkstBhpssyjP</td>\n",
       "      <td>0.437</td>\n",
       "    </tr>\n",
       "    <tr>\n",
       "      <th>2</th>\n",
       "      <td>0.4310</td>\n",
       "      <td>https://api.spotify.com/v1/audio-analysis/3Jvr...</td>\n",
       "      <td>0.484</td>\n",
       "      <td>204280</td>\n",
       "      <td>0.731</td>\n",
       "      <td>3JvrhDOgAt6p7K8mDyZwRd</td>\n",
       "      <td>0.000000</td>\n",
       "      <td>1</td>\n",
       "      <td>0.151</td>\n",
       "      <td>-6.694</td>\n",
       "      <td>1</td>\n",
       "      <td>0.0379</td>\n",
       "      <td>101.654</td>\n",
       "      <td>4</td>\n",
       "      <td>https://api.spotify.com/v1/tracks/3JvrhDOgAt6p...</td>\n",
       "      <td>audio_features</td>\n",
       "      <td>spotify:track:3JvrhDOgAt6p7K8mDyZwRd</td>\n",
       "      <td>0.510</td>\n",
       "    </tr>\n",
       "    <tr>\n",
       "      <th>3</th>\n",
       "      <td>0.5880</td>\n",
       "      <td>https://api.spotify.com/v1/audio-analysis/5Nm9...</td>\n",
       "      <td>0.418</td>\n",
       "      <td>172724</td>\n",
       "      <td>0.420</td>\n",
       "      <td>5Nm9ERjJZ5oyfXZTECKmRt</td>\n",
       "      <td>0.000064</td>\n",
       "      <td>0</td>\n",
       "      <td>0.110</td>\n",
       "      <td>-6.444</td>\n",
       "      <td>1</td>\n",
       "      <td>0.0414</td>\n",
       "      <td>84.094</td>\n",
       "      <td>4</td>\n",
       "      <td>https://api.spotify.com/v1/tracks/5Nm9ERjJZ5oy...</td>\n",
       "      <td>audio_features</td>\n",
       "      <td>spotify:track:5Nm9ERjJZ5oyfXZTECKmRt</td>\n",
       "      <td>0.184</td>\n",
       "    </tr>\n",
       "    <tr>\n",
       "      <th>4</th>\n",
       "      <td>0.0930</td>\n",
       "      <td>https://api.spotify.com/v1/audio-analysis/7xoU...</td>\n",
       "      <td>0.628</td>\n",
       "      <td>197267</td>\n",
       "      <td>0.593</td>\n",
       "      <td>7xoUc6faLbCqZO6fQEYprd</td>\n",
       "      <td>0.000002</td>\n",
       "      <td>8</td>\n",
       "      <td>0.096</td>\n",
       "      <td>-5.036</td>\n",
       "      <td>1</td>\n",
       "      <td>0.0323</td>\n",
       "      <td>125.026</td>\n",
       "      <td>4</td>\n",
       "      <td>https://api.spotify.com/v1/tracks/7xoUc6faLbCq...</td>\n",
       "      <td>audio_features</td>\n",
       "      <td>spotify:track:7xoUc6faLbCqZO6fQEYprd</td>\n",
       "      <td>0.104</td>\n",
       "    </tr>\n",
       "  </tbody>\n",
       "</table>\n",
       "</div>"
      ],
      "text/plain": [
       "   acousticness                                       analysis_url  \\\n",
       "0        0.0752  https://api.spotify.com/v1/audio-analysis/6Ius...   \n",
       "1        0.6340  https://api.spotify.com/v1/audio-analysis/1CS7...   \n",
       "2        0.4310  https://api.spotify.com/v1/audio-analysis/3Jvr...   \n",
       "3        0.5880  https://api.spotify.com/v1/audio-analysis/5Nm9...   \n",
       "4        0.0930  https://api.spotify.com/v1/audio-analysis/7xoU...   \n",
       "\n",
       "   danceability  duration_ms  energy                track_id  \\\n",
       "0         0.504       239320   0.705  6Ius4TC0L3cN74HT7ENE6e   \n",
       "1         0.566       241693   0.664  1CS7Sd1u5tWkstBhpssyjP   \n",
       "2         0.484       204280   0.731  3JvrhDOgAt6p7K8mDyZwRd   \n",
       "3         0.418       172724   0.420  5Nm9ERjJZ5oyfXZTECKmRt   \n",
       "4         0.628       197267   0.593  7xoUc6faLbCqZO6fQEYprd   \n",
       "\n",
       "   instrumentalness  key  liveness  loudness  mode  speechiness    tempo  \\\n",
       "0          0.000000    6     0.128    -8.205     0       0.3640  175.483   \n",
       "1          0.000000    4     0.116    -5.303     0       0.0464  128.945   \n",
       "2          0.000000    1     0.151    -6.694     1       0.0379  101.654   \n",
       "3          0.000064    0     0.110    -6.444     1       0.0414   84.094   \n",
       "4          0.000002    8     0.096    -5.036     1       0.0323  125.026   \n",
       "\n",
       "   time_signature                                         track_href  \\\n",
       "0               4  https://api.spotify.com/v1/tracks/6Ius4TC0L3cN...   \n",
       "1               4  https://api.spotify.com/v1/tracks/1CS7Sd1u5tWk...   \n",
       "2               4  https://api.spotify.com/v1/tracks/3JvrhDOgAt6p...   \n",
       "3               4  https://api.spotify.com/v1/tracks/5Nm9ERjJZ5oy...   \n",
       "4               4  https://api.spotify.com/v1/tracks/7xoUc6faLbCq...   \n",
       "\n",
       "             type                                   uri  valence  \n",
       "0  audio_features  spotify:track:6Ius4TC0L3cN74HT7ENE6e    0.584  \n",
       "1  audio_features  spotify:track:1CS7Sd1u5tWkstBhpssyjP    0.437  \n",
       "2  audio_features  spotify:track:3JvrhDOgAt6p7K8mDyZwRd    0.510  \n",
       "3  audio_features  spotify:track:5Nm9ERjJZ5oyfXZTECKmRt    0.184  \n",
       "4  audio_features  spotify:track:7xoUc6faLbCqZO6fQEYprd    0.104  "
      ]
     },
     "execution_count": 155,
     "metadata": {},
     "output_type": "execute_result"
    }
   ],
   "source": [
    "df_audio_features = df_audio_features.rename(columns={'id': 'track_id'})\n",
    "df_audio_features.head()"
   ]
  },
  {
   "cell_type": "code",
   "execution_count": 156,
   "metadata": {},
   "outputs": [],
   "source": [
    "final_data = pd.merge(df_audio_features, df_tracks, on='track_id', how='outer')"
   ]
  },
  {
   "cell_type": "code",
   "execution_count": 157,
   "metadata": {},
   "outputs": [
    {
     "name": "stdout",
     "output_type": "stream",
     "text": [
      "<class 'pandas.core.frame.DataFrame'>\n",
      "Int64Index: 10852 entries, 0 to 10851\n",
      "Data columns (total 21 columns):\n",
      "acousticness        10851 non-null float64\n",
      "analysis_url        10851 non-null object\n",
      "danceability        10851 non-null float64\n",
      "duration_ms         10851 non-null float64\n",
      "energy              10851 non-null float64\n",
      "track_id            10852 non-null object\n",
      "instrumentalness    10851 non-null float64\n",
      "key                 10851 non-null float64\n",
      "liveness            10851 non-null float64\n",
      "loudness            10851 non-null float64\n",
      "mode                10851 non-null float64\n",
      "speechiness         10851 non-null float64\n",
      "tempo               10851 non-null float64\n",
      "time_signature      10851 non-null float64\n",
      "track_href          10851 non-null object\n",
      "type                10851 non-null object\n",
      "uri                 10851 non-null object\n",
      "valence             10851 non-null float64\n",
      "artist_name         10852 non-null object\n",
      "track_name          10852 non-null object\n",
      "popularity          10852 non-null int64\n",
      "dtypes: float64(13), int64(1), object(7)\n",
      "memory usage: 1.8+ MB\n"
     ]
    }
   ],
   "source": [
    "final_data.info()"
   ]
  },
  {
   "cell_type": "code",
   "execution_count": 158,
   "metadata": {},
   "outputs": [
    {
     "name": "stdout",
     "output_type": "stream",
     "text": [
      "Shape after dropping:  (9153, 21)\n"
     ]
    }
   ],
   "source": [
    "final_data.drop_duplicates(subset=['artist_name','track_name'], inplace=True)\n",
    "print('Shape after dropping: ', final_data.shape)"
   ]
  },
  {
   "cell_type": "code",
   "execution_count": 159,
   "metadata": {},
   "outputs": [],
   "source": [
    "# Creating audio features file\n",
    "\n",
    "final_data.to_csv('SpotifyAudioFeatures_2014.csv',encoding='UTF')"
   ]
  },
  {
   "cell_type": "code",
   "execution_count": 160,
   "metadata": {},
   "outputs": [],
   "source": [
    "#chart = billboard.ChartData('billboard-200/2018-02-01')\n",
    "new_chart = billboard.ChartData('hot-100/2014-03-01')\n",
    "\n",
    "#print(new_chart)"
   ]
  },
  {
   "cell_type": "code",
   "execution_count": 161,
   "metadata": {},
   "outputs": [],
   "source": [
    "# Converting new_chart to pandas dataframe\n",
    "\n",
    "billboard_df = pd.DataFrame()\n",
    "\n",
    "for item in new_chart:\n",
    "    billboard_df = billboard_df.append(pd.Series(item, index=['track_name']), ignore_index=True)"
   ]
  },
  {
   "cell_type": "code",
   "execution_count": 162,
   "metadata": {},
   "outputs": [
    {
     "data": {
      "text/html": [
       "<div>\n",
       "<style scoped>\n",
       "    .dataframe tbody tr th:only-of-type {\n",
       "        vertical-align: middle;\n",
       "    }\n",
       "\n",
       "    .dataframe tbody tr th {\n",
       "        vertical-align: top;\n",
       "    }\n",
       "\n",
       "    .dataframe thead th {\n",
       "        text-align: right;\n",
       "    }\n",
       "</style>\n",
       "<table border=\"1\" class=\"dataframe\">\n",
       "  <thead>\n",
       "    <tr style=\"text-align: right;\">\n",
       "      <th></th>\n",
       "      <th>track_name</th>\n",
       "    </tr>\n",
       "  </thead>\n",
       "  <tbody>\n",
       "    <tr>\n",
       "      <th>0</th>\n",
       "      <td>'Dark Horse' by Katy Perry Featuring Juicy J</td>\n",
       "    </tr>\n",
       "    <tr>\n",
       "      <th>1</th>\n",
       "      <td>'Happy' by Pharrell Williams</td>\n",
       "    </tr>\n",
       "    <tr>\n",
       "      <th>2</th>\n",
       "      <td>'Talk Dirty' by Jason Derulo Featuring 2 Chainz</td>\n",
       "    </tr>\n",
       "    <tr>\n",
       "      <th>3</th>\n",
       "      <td>'Say Something' by A Great Big World &amp; Christi...</td>\n",
       "    </tr>\n",
       "    <tr>\n",
       "      <th>4</th>\n",
       "      <td>'Drunk In Love' by Beyonce Featuring Jay Z</td>\n",
       "    </tr>\n",
       "  </tbody>\n",
       "</table>\n",
       "</div>"
      ],
      "text/plain": [
       "                                          track_name\n",
       "0       'Dark Horse' by Katy Perry Featuring Juicy J\n",
       "1                       'Happy' by Pharrell Williams\n",
       "2    'Talk Dirty' by Jason Derulo Featuring 2 Chainz\n",
       "3  'Say Something' by A Great Big World & Christi...\n",
       "4         'Drunk In Love' by Beyonce Featuring Jay Z"
      ]
     },
     "execution_count": 162,
     "metadata": {},
     "output_type": "execute_result"
    }
   ],
   "source": [
    "billboard_df.head()"
   ]
  },
  {
   "cell_type": "code",
   "execution_count": 163,
   "metadata": {},
   "outputs": [],
   "source": [
    "bb_tracks = list(billboard_df.track_name)"
   ]
  },
  {
   "cell_type": "code",
   "execution_count": 164,
   "metadata": {},
   "outputs": [],
   "source": [
    "count = 0\n",
    "\n",
    "def find_target(row):\n",
    "    lst = bb_tracks\n",
    "    if row['track_name'] in str(lst):\n",
    "        return 1\n",
    "        count +=1 \n",
    "    else:\n",
    "        return 0"
   ]
  },
  {
   "cell_type": "code",
   "execution_count": 165,
   "metadata": {},
   "outputs": [],
   "source": [
    "final_data = pd.read_csv('SpotifyAudioFeatures_2014.csv',index_col=0)"
   ]
  },
  {
   "cell_type": "code",
   "execution_count": 166,
   "metadata": {},
   "outputs": [],
   "source": [
    "final_data['bbhot'] = final_data.apply(find_target, axis=1)"
   ]
  },
  {
   "cell_type": "code",
   "execution_count": 15,
   "metadata": {},
   "outputs": [],
   "source": [
    "#final_data.head(50)"
   ]
  },
  {
   "cell_type": "code",
   "execution_count": 168,
   "metadata": {},
   "outputs": [],
   "source": [
    "final_data.to_csv('Spotify_final_2014.csv')"
   ]
  },
  {
   "cell_type": "code",
   "execution_count": 169,
   "metadata": {},
   "outputs": [],
   "source": [
    "## Final file processing\n",
    "\n",
    "aggregate_file = pd.read_csv(\"Spotify_Final.csv\")"
   ]
  },
  {
   "cell_type": "code",
   "execution_count": 172,
   "metadata": {},
   "outputs": [],
   "source": [
    "aggregate_file.drop_duplicates(subset=['artist_name','track_name'], inplace=True)"
   ]
  },
  {
   "cell_type": "code",
   "execution_count": 173,
   "metadata": {},
   "outputs": [
    {
     "name": "stdout",
     "output_type": "stream",
     "text": [
      "Shape after dropping:  (51410, 22)\n"
     ]
    }
   ],
   "source": [
    "print('Shape after dropping: ', aggregate_file.shape)"
   ]
  },
  {
   "cell_type": "code",
   "execution_count": 1,
   "metadata": {},
   "outputs": [],
   "source": [
    "## Final Merge between Spotify and billboard"
   ]
  },
  {
   "cell_type": "code",
   "execution_count": 65,
   "metadata": {},
   "outputs": [],
   "source": [
    "billboard_dataframe = pd.DataFrame()"
   ]
  },
  {
   "cell_type": "code",
   "execution_count": 66,
   "metadata": {},
   "outputs": [],
   "source": [
    "billboard_dataframe = pd.read_csv('billboard_cleaned_final.csv')"
   ]
  },
  {
   "cell_type": "code",
   "execution_count": 67,
   "metadata": {},
   "outputs": [
    {
     "data": {
      "text/plain": [
       "(1492, 3)"
      ]
     },
     "execution_count": 67,
     "metadata": {},
     "output_type": "execute_result"
    }
   ],
   "source": [
    "billboard_dataframe.shape"
   ]
  },
  {
   "cell_type": "code",
   "execution_count": 68,
   "metadata": {},
   "outputs": [],
   "source": [
    "spotify_dataframe = pd.DataFrame()"
   ]
  },
  {
   "cell_type": "code",
   "execution_count": 69,
   "metadata": {},
   "outputs": [],
   "source": [
    "spotify_dataframe = pd.read_csv('SpotifyAudioFeatures_2014.csv',encoding='UTF')"
   ]
  },
  {
   "cell_type": "code",
   "execution_count": 70,
   "metadata": {},
   "outputs": [],
   "source": [
    "bb_tracks = list(billboard_dataframe.track_name)"
   ]
  },
  {
   "cell_type": "code",
   "execution_count": 71,
   "metadata": {
    "scrolled": false
   },
   "outputs": [],
   "source": [
    "def find_target(row):\n",
    "    lst = bb_tracks\n",
    "    if row['track_name'] in str(lst):\n",
    "        return 1\n",
    "        count +=1 \n",
    "    else:\n",
    "        return 0"
   ]
  },
  {
   "cell_type": "code",
   "execution_count": 72,
   "metadata": {},
   "outputs": [],
   "source": [
    "spotify_dataframe['bbhot'] = spotify_dataframe.apply(find_target, axis=1)"
   ]
  },
  {
   "cell_type": "code",
   "execution_count": 73,
   "metadata": {},
   "outputs": [],
   "source": [
    "spotify_dataframe.to_csv('SpotifyAudioFeatures_2014.csv')"
   ]
  },
  {
   "cell_type": "code",
   "execution_count": 86,
   "metadata": {},
   "outputs": [],
   "source": [
    "#final_df = pd.concat(map(pd.read_csv, ['SpotifyAudioFeatures_2019.csv', 'SpotifyAudioFeatures_2018.csv','SpotifyAudioFeatures_2017.csv']))"
   ]
  },
  {
   "cell_type": "code",
   "execution_count": 139,
   "metadata": {},
   "outputs": [],
   "source": [
    "## File Creation Block Begins\n",
    "\n",
    "spotify_2019 = pd.read_csv('SpotifyAudioFeatures_2019.csv',encoding = 'UTF-8')\n",
    "spotify_2018 = pd.read_csv('SpotifyAudioFeatures_2018.csv',encoding = 'UTF-8')\n",
    "spotify_2017 = pd.read_csv('SpotifyAudioFeatures_2017.csv',encoding = 'UTF-8')\n",
    "spotify_2016 = pd.read_csv('SpotifyAudioFeatures_2016.csv',encoding = 'UTF-8')\n",
    "spotify_2015 = pd.read_csv('SpotifyAudioFeatures_2015.csv',encoding = 'UTF-8')\n",
    "spotify_2014 = pd.read_csv('SpotifyAudioFeatures_2014.csv',encoding = 'UTF-8')"
   ]
  },
  {
   "cell_type": "code",
   "execution_count": 140,
   "metadata": {},
   "outputs": [
    {
     "name": "stdout",
     "output_type": "stream",
     "text": [
      "<class 'pandas.core.frame.DataFrame'>\n",
      "RangeIndex: 8701 entries, 0 to 8700\n",
      "Data columns (total 22 columns):\n",
      "acousticness        8700 non-null float64\n",
      "analysis_url        8700 non-null object\n",
      "danceability        8700 non-null float64\n",
      "duration_ms         8700 non-null float64\n",
      "energy              8700 non-null float64\n",
      "track_id            8701 non-null object\n",
      "instrumentalness    8700 non-null float64\n",
      "key                 8700 non-null float64\n",
      "liveness            8700 non-null float64\n",
      "loudness            8700 non-null float64\n",
      "mode                8700 non-null float64\n",
      "speechiness         8700 non-null float64\n",
      "tempo               8700 non-null float64\n",
      "time_signature      8700 non-null float64\n",
      "track_href          8700 non-null object\n",
      "type                8700 non-null object\n",
      "uri                 8700 non-null object\n",
      "valence             8700 non-null float64\n",
      "artist_name         8701 non-null object\n",
      "track_name          8701 non-null object\n",
      "popularity          8701 non-null int64\n",
      "bbhot               8701 non-null int64\n",
      "dtypes: float64(13), int64(2), object(7)\n",
      "memory usage: 1.5+ MB\n"
     ]
    }
   ],
   "source": [
    "#spotify_2018.info()\n",
    "spotify_2017.info()"
   ]
  },
  {
   "cell_type": "code",
   "execution_count": 141,
   "metadata": {},
   "outputs": [],
   "source": [
    "spotify_2019 = spotify_2019.drop_duplicates(subset=['artist_name','track_name'], inplace=False)\n",
    "spotify_2018 = spotify_2018.drop_duplicates(subset=['artist_name','track_name'], inplace=False)\n",
    "spotify_2017 = spotify_2017.drop_duplicates(subset=['artist_name','track_name'], inplace=False)\n",
    "spotify_2016 = spotify_2016.drop_duplicates(subset=['artist_name','track_name'], inplace=False)\n",
    "spotify_2015 = spotify_2015.drop_duplicates(subset=['artist_name','track_name'], inplace=False)\n",
    "spotify_2014 = spotify_2014.drop_duplicates(subset=['artist_name','track_name'], inplace=False)"
   ]
  },
  {
   "cell_type": "code",
   "execution_count": 142,
   "metadata": {},
   "outputs": [
    {
     "data": {
      "text/plain": [
       "(9153, 22)"
      ]
     },
     "execution_count": 142,
     "metadata": {},
     "output_type": "execute_result"
    }
   ],
   "source": [
    "spotify_2019.shape\n",
    "spotify_2018.shape\n",
    "spotify_2017.shape\n",
    "spotify_2016.shape\n",
    "spotify_2015.shape\n",
    "spotify_2014.shape"
   ]
  },
  {
   "cell_type": "code",
   "execution_count": 143,
   "metadata": {},
   "outputs": [],
   "source": [
    "#final_frame = [spotify_2019, spotify_2018, spotify_2017, spotify_2016, spotify_2015]\n",
    "\n",
    "final_frame = [spotify_2019, spotify_2018, spotify_2017, spotify_2016, spotify_2015, spotify_2014]\n"
   ]
  },
  {
   "cell_type": "code",
   "execution_count": null,
   "metadata": {},
   "outputs": [],
   "source": []
  },
  {
   "cell_type": "code",
   "execution_count": 144,
   "metadata": {},
   "outputs": [],
   "source": [
    "final_file_frame = pd.concat(final_frame)"
   ]
  },
  {
   "cell_type": "code",
   "execution_count": 145,
   "metadata": {},
   "outputs": [
    {
     "data": {
      "text/plain": [
       "(42763, 22)"
      ]
     },
     "execution_count": 145,
     "metadata": {},
     "output_type": "execute_result"
    }
   ],
   "source": [
    "final_file_frame.shape"
   ]
  },
  {
   "cell_type": "code",
   "execution_count": 146,
   "metadata": {},
   "outputs": [],
   "source": [
    "final_file_frame = final_file_frame.drop_duplicates(subset=['artist_name','track_name'], inplace=False)"
   ]
  },
  {
   "cell_type": "code",
   "execution_count": 147,
   "metadata": {},
   "outputs": [
    {
     "data": {
      "text/plain": [
       "(42240, 22)"
      ]
     },
     "execution_count": 147,
     "metadata": {},
     "output_type": "execute_result"
    }
   ],
   "source": [
    "final_file_frame.shape"
   ]
  },
  {
   "cell_type": "code",
   "execution_count": 148,
   "metadata": {},
   "outputs": [],
   "source": [
    "final_file_frame.to_csv('test.csv',encoding = 'UTF-8')"
   ]
  },
  {
   "cell_type": "code",
   "execution_count": null,
   "metadata": {},
   "outputs": [],
   "source": []
  }
 ],
 "metadata": {
  "kernelspec": {
   "display_name": "Python 3",
   "language": "python",
   "name": "python3"
  },
  "language_info": {
   "codemirror_mode": {
    "name": "ipython",
    "version": 3
   },
   "file_extension": ".py",
   "mimetype": "text/x-python",
   "name": "python",
   "nbconvert_exporter": "python",
   "pygments_lexer": "ipython3",
   "version": "3.7.1"
  }
 },
 "nbformat": 4,
 "nbformat_minor": 2
}
