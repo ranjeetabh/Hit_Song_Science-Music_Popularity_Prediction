{
 "cells": [
  {
   "cell_type": "code",
   "execution_count": 18,
   "metadata": {},
   "outputs": [],
   "source": [
    "import pandas as pd\n",
    "import warnings\n",
    "import copy\n",
    "import seaborn as sns\n",
    "import matplotlib.pyplot as plt\n",
    "\n",
    "warnings.filterwarnings(\"ignore\")"
   ]
  },
  {
   "cell_type": "code",
   "execution_count": 12,
   "metadata": {},
   "outputs": [
    {
     "data": {
      "text/html": [
       "<div>\n",
       "<style scoped>\n",
       "    .dataframe tbody tr th:only-of-type {\n",
       "        vertical-align: middle;\n",
       "    }\n",
       "\n",
       "    .dataframe tbody tr th {\n",
       "        vertical-align: top;\n",
       "    }\n",
       "\n",
       "    .dataframe thead th {\n",
       "        text-align: right;\n",
       "    }\n",
       "</style>\n",
       "<table border=\"1\" class=\"dataframe\">\n",
       "  <thead>\n",
       "    <tr style=\"text-align: right;\">\n",
       "      <th></th>\n",
       "      <th>acousticness</th>\n",
       "      <th>analysis_url</th>\n",
       "      <th>danceability</th>\n",
       "      <th>duration_ms</th>\n",
       "      <th>energy</th>\n",
       "      <th>track_id</th>\n",
       "      <th>instrumentalness</th>\n",
       "      <th>key</th>\n",
       "      <th>liveness</th>\n",
       "      <th>loudness</th>\n",
       "      <th>...</th>\n",
       "      <th>tempo</th>\n",
       "      <th>time_signature</th>\n",
       "      <th>track_href</th>\n",
       "      <th>type</th>\n",
       "      <th>uri</th>\n",
       "      <th>valence</th>\n",
       "      <th>artist_name</th>\n",
       "      <th>track_name</th>\n",
       "      <th>popularity</th>\n",
       "      <th>bbhot</th>\n",
       "    </tr>\n",
       "  </thead>\n",
       "  <tbody>\n",
       "    <tr>\n",
       "      <th>535</th>\n",
       "      <td>0.6530</td>\n",
       "      <td>https://api.spotify.com/v1/audio-analysis/7pdF...</td>\n",
       "      <td>0.735</td>\n",
       "      <td>157777</td>\n",
       "      <td>0.525</td>\n",
       "      <td>7pdF27mSDuPWhppnHAmWHa</td>\n",
       "      <td>0.918000</td>\n",
       "      <td>6</td>\n",
       "      <td>0.101</td>\n",
       "      <td>-2.939</td>\n",
       "      <td>...</td>\n",
       "      <td>160.147</td>\n",
       "      <td>4</td>\n",
       "      <td>https://api.spotify.com/v1/tracks/7pdF27mSDuPW...</td>\n",
       "      <td>audio_features</td>\n",
       "      <td>spotify:track:7pdF27mSDuPWhppnHAmWHa</td>\n",
       "      <td>0.369</td>\n",
       "      <td>XXXTENTACION</td>\n",
       "      <td>whoa (mind in awe)</td>\n",
       "      <td>85</td>\n",
       "      <td>0</td>\n",
       "    </tr>\n",
       "    <tr>\n",
       "      <th>816</th>\n",
       "      <td>0.0133</td>\n",
       "      <td>https://api.spotify.com/v1/audio-analysis/0xGl...</td>\n",
       "      <td>0.795</td>\n",
       "      <td>134417</td>\n",
       "      <td>0.789</td>\n",
       "      <td>0xGl8HKFncXK7aFZRTGZsr</td>\n",
       "      <td>0.000000</td>\n",
       "      <td>2</td>\n",
       "      <td>0.113</td>\n",
       "      <td>-5.210</td>\n",
       "      <td>...</td>\n",
       "      <td>149.961</td>\n",
       "      <td>4</td>\n",
       "      <td>https://api.spotify.com/v1/tracks/0xGl8HKFncXK...</td>\n",
       "      <td>audio_features</td>\n",
       "      <td>spotify:track:0xGl8HKFncXK7aFZRTGZsr</td>\n",
       "      <td>0.535</td>\n",
       "      <td>Party in Backyard</td>\n",
       "      <td>Bitch Lasagna</td>\n",
       "      <td>79</td>\n",
       "      <td>0</td>\n",
       "    </tr>\n",
       "    <tr>\n",
       "      <th>927</th>\n",
       "      <td>0.1700</td>\n",
       "      <td>https://api.spotify.com/v1/audio-analysis/1YLf...</td>\n",
       "      <td>0.656</td>\n",
       "      <td>179411</td>\n",
       "      <td>0.616</td>\n",
       "      <td>1YLfaRr3QIW1fF3nvDO0gX</td>\n",
       "      <td>0.000000</td>\n",
       "      <td>5</td>\n",
       "      <td>0.219</td>\n",
       "      <td>-4.668</td>\n",
       "      <td>...</td>\n",
       "      <td>98.871</td>\n",
       "      <td>4</td>\n",
       "      <td>https://api.spotify.com/v1/tracks/1YLfaRr3QIW1...</td>\n",
       "      <td>audio_features</td>\n",
       "      <td>spotify:track:1YLfaRr3QIW1fF3nvDO0gX</td>\n",
       "      <td>0.269</td>\n",
       "      <td>Ella Mai</td>\n",
       "      <td>Whatchamacallit (feat. Chris Brown)</td>\n",
       "      <td>76</td>\n",
       "      <td>0</td>\n",
       "    </tr>\n",
       "    <tr>\n",
       "      <th>619</th>\n",
       "      <td>0.0945</td>\n",
       "      <td>https://api.spotify.com/v1/audio-analysis/4hQ6...</td>\n",
       "      <td>0.601</td>\n",
       "      <td>207905</td>\n",
       "      <td>0.724</td>\n",
       "      <td>4hQ6UGyWQIGJmHSo0J88JW</td>\n",
       "      <td>0.000002</td>\n",
       "      <td>6</td>\n",
       "      <td>0.120</td>\n",
       "      <td>-4.856</td>\n",
       "      <td>...</td>\n",
       "      <td>102.061</td>\n",
       "      <td>4</td>\n",
       "      <td>https://api.spotify.com/v1/tracks/4hQ6UGyWQIGJ...</td>\n",
       "      <td>audio_features</td>\n",
       "      <td>spotify:track:4hQ6UGyWQIGJmHSo0J88JW</td>\n",
       "      <td>0.508</td>\n",
       "      <td>Selena Gomez</td>\n",
       "      <td>Back To You - From 13 Reasons Why ‚Äì Season 2...</td>\n",
       "      <td>84</td>\n",
       "      <td>0</td>\n",
       "    </tr>\n",
       "    <tr>\n",
       "      <th>486</th>\n",
       "      <td>0.3820</td>\n",
       "      <td>https://api.spotify.com/v1/audio-analysis/78G8...</td>\n",
       "      <td>0.366</td>\n",
       "      <td>272739</td>\n",
       "      <td>0.337</td>\n",
       "      <td>78G8Zeg1T9ASAyCiRGG75N</td>\n",
       "      <td>0.000000</td>\n",
       "      <td>5</td>\n",
       "      <td>0.139</td>\n",
       "      <td>-5.984</td>\n",
       "      <td>...</td>\n",
       "      <td>126.661</td>\n",
       "      <td>4</td>\n",
       "      <td>https://api.spotify.com/v1/tracks/78G8Zeg1T9AS...</td>\n",
       "      <td>audio_features</td>\n",
       "      <td>spotify:track:78G8Zeg1T9ASAyCiRGG75N</td>\n",
       "      <td>0.061</td>\n",
       "      <td>Ella Mai</td>\n",
       "      <td>Easy</td>\n",
       "      <td>59</td>\n",
       "      <td>1</td>\n",
       "    </tr>\n",
       "  </tbody>\n",
       "</table>\n",
       "<p>5 rows × 22 columns</p>\n",
       "</div>"
      ],
      "text/plain": [
       "     acousticness                                       analysis_url  \\\n",
       "535        0.6530  https://api.spotify.com/v1/audio-analysis/7pdF...   \n",
       "816        0.0133  https://api.spotify.com/v1/audio-analysis/0xGl...   \n",
       "927        0.1700  https://api.spotify.com/v1/audio-analysis/1YLf...   \n",
       "619        0.0945  https://api.spotify.com/v1/audio-analysis/4hQ6...   \n",
       "486        0.3820  https://api.spotify.com/v1/audio-analysis/78G8...   \n",
       "\n",
       "     danceability  duration_ms  energy                track_id  \\\n",
       "535         0.735       157777   0.525  7pdF27mSDuPWhppnHAmWHa   \n",
       "816         0.795       134417   0.789  0xGl8HKFncXK7aFZRTGZsr   \n",
       "927         0.656       179411   0.616  1YLfaRr3QIW1fF3nvDO0gX   \n",
       "619         0.601       207905   0.724  4hQ6UGyWQIGJmHSo0J88JW   \n",
       "486         0.366       272739   0.337  78G8Zeg1T9ASAyCiRGG75N   \n",
       "\n",
       "     instrumentalness  key  liveness  loudness  ...     tempo  time_signature  \\\n",
       "535          0.918000    6     0.101    -2.939  ...   160.147               4   \n",
       "816          0.000000    2     0.113    -5.210  ...   149.961               4   \n",
       "927          0.000000    5     0.219    -4.668  ...    98.871               4   \n",
       "619          0.000002    6     0.120    -4.856  ...   102.061               4   \n",
       "486          0.000000    5     0.139    -5.984  ...   126.661               4   \n",
       "\n",
       "                                            track_href            type  \\\n",
       "535  https://api.spotify.com/v1/tracks/7pdF27mSDuPW...  audio_features   \n",
       "816  https://api.spotify.com/v1/tracks/0xGl8HKFncXK...  audio_features   \n",
       "927  https://api.spotify.com/v1/tracks/1YLfaRr3QIW1...  audio_features   \n",
       "619  https://api.spotify.com/v1/tracks/4hQ6UGyWQIGJ...  audio_features   \n",
       "486  https://api.spotify.com/v1/tracks/78G8Zeg1T9AS...  audio_features   \n",
       "\n",
       "                                      uri valence        artist_name  \\\n",
       "535  spotify:track:7pdF27mSDuPWhppnHAmWHa   0.369       XXXTENTACION   \n",
       "816  spotify:track:0xGl8HKFncXK7aFZRTGZsr   0.535  Party in Backyard   \n",
       "927  spotify:track:1YLfaRr3QIW1fF3nvDO0gX   0.269           Ella Mai   \n",
       "619  spotify:track:4hQ6UGyWQIGJmHSo0J88JW   0.508       Selena Gomez   \n",
       "486  spotify:track:78G8Zeg1T9ASAyCiRGG75N   0.061           Ella Mai   \n",
       "\n",
       "                                            track_name popularity bbhot  \n",
       "535                                 whoa (mind in awe)         85     0  \n",
       "816                                      Bitch Lasagna         79     0  \n",
       "927                Whatchamacallit (feat. Chris Brown)         76     0  \n",
       "619  Back To You - From 13 Reasons Why ‚Äì Season 2...         84     0  \n",
       "486                                               Easy         59     1  \n",
       "\n",
       "[5 rows x 22 columns]"
      ]
     },
     "execution_count": 12,
     "metadata": {},
     "output_type": "execute_result"
    }
   ],
   "source": [
    "# Read file\n",
    "\n",
    "input_file = pd.read_csv('./Final_Files/test_1.csv')\n",
    "\n",
    "# Shuffle data frame\n",
    "\n",
    "input_file = input_file.sample(frac=1)\n",
    "input_file.head()"
   ]
  },
  {
   "cell_type": "code",
   "execution_count": 13,
   "metadata": {},
   "outputs": [
    {
     "name": "stdout",
     "output_type": "stream",
     "text": [
      "<class 'pandas.core.frame.DataFrame'>\n",
      "Int64Index: 941 entries, 535 to 136\n",
      "Data columns (total 12 columns):\n",
      "acousticness        941 non-null float64\n",
      "danceability        941 non-null float64\n",
      "duration_ms         941 non-null int64\n",
      "energy              941 non-null float64\n",
      "instrumentalness    941 non-null float64\n",
      "liveness            941 non-null float64\n",
      "loudness            941 non-null float64\n",
      "speechiness         941 non-null float64\n",
      "tempo               941 non-null float64\n",
      "valence             941 non-null float64\n",
      "popularity          941 non-null int64\n",
      "bbhot               941 non-null int64\n",
      "dtypes: float64(9), int64(3)\n",
      "memory usage: 95.6 KB\n"
     ]
    }
   ],
   "source": [
    "## Dropping fields (strings/objects)\n",
    "\n",
    "'''\n",
    "drop_list = ['analysis_url','track_id', 'track_href', 'type', 'uri', \n",
    "             'artist_name', 'track_name']\n",
    "'''\n",
    "drop_list = ['analysis_url','track_id', 'track_href', 'type', 'uri', \n",
    "             'artist_name', 'track_name', 'mode', 'key', 'time_signature']\n",
    "\n",
    "train = input_file.drop(drop_list, axis = 1)\n",
    "\n",
    "train.info()"
   ]
  },
  {
   "cell_type": "code",
   "execution_count": 14,
   "metadata": {},
   "outputs": [
    {
     "data": {
      "text/plain": [
       "(941,)"
      ]
     },
     "execution_count": 14,
     "metadata": {},
     "output_type": "execute_result"
    }
   ],
   "source": [
    "## Making a copy of dataframe target variable and assigning it to Y\n",
    "Y = copy.deepcopy(train.bbhot)\n",
    "Y.shape"
   ]
  },
  {
   "cell_type": "code",
   "execution_count": 20,
   "metadata": {},
   "outputs": [
    {
     "data": {
      "image/png": "[encoded data removed]",
      "text/plain": [
       "<Figure size 864x432 with 1 Axes>"
      ]
     },
     "metadata": {},
     "output_type": "display_data"
    }
   ],
   "source": [
    "sns.set_style('darkgrid')\n",
    "g = sns.FacetGrid(train,hue=\"bbhot\",palette='coolwarm',size=6,aspect=2)\n",
    "g = g.map(plt.hist,'popularity',bins=20,alpha=0.7)"
   ]
  },
  {
   "cell_type": "code",
   "execution_count": 16,
   "metadata": {},
   "outputs": [
    {
     "data": {
      "text/plain": [
       "<seaborn.axisgrid.FacetGrid at 0x1a1de0ed30>"
      ]
     },
     "execution_count": 16,
     "metadata": {},
     "output_type": "execute_result"
    },
    {
     "data": {
      "image/png": "[encoded data removed]",
      "text/plain": [
       "<Figure size 474.375x432 with 1 Axes>"
      ]
     },
     "metadata": {},
     "output_type": "display_data"
    }
   ],
   "source": [
    "sns.set_style('whitegrid')\n",
    "sns.lmplot('danceability','energy',data=train, hue='bbhot',\n",
    "           palette='coolwarm',size=6,aspect=1,fit_reg=False)"
   ]
  },
  {
   "cell_type": "code",
   "execution_count": 22,
   "metadata": {},
   "outputs": [],
   "source": [
    "# Implement Kmeans\n",
    "\n",
    "from sklearn.cluster import KMeans"
   ]
  },
  {
   "cell_type": "code",
   "execution_count": 23,
   "metadata": {},
   "outputs": [],
   "source": [
    "kmeans = KMeans(n_clusters=2)"
   ]
  },
  {
   "cell_type": "code",
   "execution_count": 39,
   "metadata": {},
   "outputs": [
    {
     "data": {
      "text/plain": [
       "KMeans(algorithm='auto', copy_x=True, init='k-means++', max_iter=300,\n",
       "    n_clusters=2, n_init=10, n_jobs=None, precompute_distances='auto',\n",
       "    random_state=None, tol=0.0001, verbose=0)"
      ]
     },
     "execution_count": 39,
     "metadata": {},
     "output_type": "execute_result"
    }
   ],
   "source": [
    "## Fitting everything to the model except bbhot label\n",
    "\n",
    "kmeans.fit(train.drop('bbhot',axis=1))"
   ]
  },
  {
   "cell_type": "code",
   "execution_count": null,
   "metadata": {},
   "outputs": [],
   "source": []
  },
  {
   "cell_type": "code",
   "execution_count": 40,
   "metadata": {},
   "outputs": [
    {
     "data": {
      "text/plain": [
       "array([[ 2.59631073e-01,  6.96339431e-01,  1.70054047e+05,\n",
       "         5.95975163e-01,  3.75257677e-02,  1.65941057e-01,\n",
       "        -6.84562398e+00,  1.41754268e-01,  1.21879114e+02,\n",
       "         4.70378049e-01,  7.50752033e+01,  0.00000000e+00],\n",
       "       [ 2.35784708e-01,  6.64118040e-01,  2.32943486e+05,\n",
       "         6.15679065e-01,  1.78148752e-02,  1.58973942e-01,\n",
       "        -6.46283519e+00,  1.18960802e-01,  1.23348535e+02,\n",
       "         4.07195768e-01,  7.51959911e+01,  0.00000000e+00]])"
      ]
     },
     "execution_count": 40,
     "metadata": {},
     "output_type": "execute_result"
    }
   ],
   "source": [
    "## What are the cluster center vectors\n",
    "\n",
    "kmeans.cluster_centers_\n"
   ]
  },
  {
   "cell_type": "code",
   "execution_count": 41,
   "metadata": {},
   "outputs": [],
   "source": [
    "## Create a new column for df called 'Cluster', which is a 1 for a hot song, and a 0 for a not so hot song.**\n",
    "\n",
    "def converter(cluster):\n",
    "    if cluster=='1':\n",
    "        return 1\n",
    "    else:\n",
    "        return 0"
   ]
  },
  {
   "cell_type": "code",
   "execution_count": 42,
   "metadata": {},
   "outputs": [],
   "source": [
    "train['Cluster'] = train['bbhot'].apply(converter)"
   ]
  },
  {
   "cell_type": "code",
   "execution_count": 43,
   "metadata": {},
   "outputs": [
    {
     "data": {
      "text/html": [
       "<div>\n",
       "<style scoped>\n",
       "    .dataframe tbody tr th:only-of-type {\n",
       "        vertical-align: middle;\n",
       "    }\n",
       "\n",
       "    .dataframe tbody tr th {\n",
       "        vertical-align: top;\n",
       "    }\n",
       "\n",
       "    .dataframe thead th {\n",
       "        text-align: right;\n",
       "    }\n",
       "</style>\n",
       "<table border=\"1\" class=\"dataframe\">\n",
       "  <thead>\n",
       "    <tr style=\"text-align: right;\">\n",
       "      <th></th>\n",
       "      <th>acousticness</th>\n",
       "      <th>danceability</th>\n",
       "      <th>duration_ms</th>\n",
       "      <th>energy</th>\n",
       "      <th>instrumentalness</th>\n",
       "      <th>liveness</th>\n",
       "      <th>loudness</th>\n",
       "      <th>speechiness</th>\n",
       "      <th>tempo</th>\n",
       "      <th>valence</th>\n",
       "      <th>popularity</th>\n",
       "      <th>bbhot</th>\n",
       "      <th>Cluster</th>\n",
       "    </tr>\n",
       "  </thead>\n",
       "  <tbody>\n",
       "    <tr>\n",
       "      <th>535</th>\n",
       "      <td>0.6530</td>\n",
       "      <td>0.735</td>\n",
       "      <td>157777</td>\n",
       "      <td>0.525</td>\n",
       "      <td>0.918000</td>\n",
       "      <td>0.101</td>\n",
       "      <td>-2.939</td>\n",
       "      <td>0.0441</td>\n",
       "      <td>160.147</td>\n",
       "      <td>0.369</td>\n",
       "      <td>85</td>\n",
       "      <td>0</td>\n",
       "      <td>0</td>\n",
       "    </tr>\n",
       "    <tr>\n",
       "      <th>816</th>\n",
       "      <td>0.0133</td>\n",
       "      <td>0.795</td>\n",
       "      <td>134417</td>\n",
       "      <td>0.789</td>\n",
       "      <td>0.000000</td>\n",
       "      <td>0.113</td>\n",
       "      <td>-5.210</td>\n",
       "      <td>0.2590</td>\n",
       "      <td>149.961</td>\n",
       "      <td>0.535</td>\n",
       "      <td>79</td>\n",
       "      <td>0</td>\n",
       "      <td>0</td>\n",
       "    </tr>\n",
       "    <tr>\n",
       "      <th>927</th>\n",
       "      <td>0.1700</td>\n",
       "      <td>0.656</td>\n",
       "      <td>179411</td>\n",
       "      <td>0.616</td>\n",
       "      <td>0.000000</td>\n",
       "      <td>0.219</td>\n",
       "      <td>-4.668</td>\n",
       "      <td>0.0392</td>\n",
       "      <td>98.871</td>\n",
       "      <td>0.269</td>\n",
       "      <td>76</td>\n",
       "      <td>0</td>\n",
       "      <td>0</td>\n",
       "    </tr>\n",
       "    <tr>\n",
       "      <th>619</th>\n",
       "      <td>0.0945</td>\n",
       "      <td>0.601</td>\n",
       "      <td>207905</td>\n",
       "      <td>0.724</td>\n",
       "      <td>0.000002</td>\n",
       "      <td>0.120</td>\n",
       "      <td>-4.856</td>\n",
       "      <td>0.0486</td>\n",
       "      <td>102.061</td>\n",
       "      <td>0.508</td>\n",
       "      <td>84</td>\n",
       "      <td>0</td>\n",
       "      <td>0</td>\n",
       "    </tr>\n",
       "    <tr>\n",
       "      <th>486</th>\n",
       "      <td>0.3820</td>\n",
       "      <td>0.366</td>\n",
       "      <td>272739</td>\n",
       "      <td>0.337</td>\n",
       "      <td>0.000000</td>\n",
       "      <td>0.139</td>\n",
       "      <td>-5.984</td>\n",
       "      <td>0.0315</td>\n",
       "      <td>126.661</td>\n",
       "      <td>0.061</td>\n",
       "      <td>59</td>\n",
       "      <td>1</td>\n",
       "      <td>0</td>\n",
       "    </tr>\n",
       "  </tbody>\n",
       "</table>\n",
       "</div>"
      ],
      "text/plain": [
       "     acousticness  danceability  duration_ms  energy  instrumentalness  \\\n",
       "535        0.6530         0.735       157777   0.525          0.918000   \n",
       "816        0.0133         0.795       134417   0.789          0.000000   \n",
       "927        0.1700         0.656       179411   0.616          0.000000   \n",
       "619        0.0945         0.601       207905   0.724          0.000002   \n",
       "486        0.3820         0.366       272739   0.337          0.000000   \n",
       "\n",
       "     liveness  loudness  speechiness    tempo  valence  popularity  bbhot  \\\n",
       "535     0.101    -2.939       0.0441  160.147    0.369          85      0   \n",
       "816     0.113    -5.210       0.2590  149.961    0.535          79      0   \n",
       "927     0.219    -4.668       0.0392   98.871    0.269          76      0   \n",
       "619     0.120    -4.856       0.0486  102.061    0.508          84      0   \n",
       "486     0.139    -5.984       0.0315  126.661    0.061          59      1   \n",
       "\n",
       "     Cluster  \n",
       "535        0  \n",
       "816        0  \n",
       "927        0  \n",
       "619        0  \n",
       "486        0  "
      ]
     },
     "execution_count": 43,
     "metadata": {},
     "output_type": "execute_result"
    }
   ],
   "source": [
    "train.head()"
   ]
  },
  {
   "cell_type": "code",
   "execution_count": 44,
   "metadata": {},
   "outputs": [
    {
     "name": "stdout",
     "output_type": "stream",
     "text": [
      "[[492 449]\n",
      " [  0   0]]\n",
      "              precision    recall  f1-score   support\n",
      "\n",
      "           0       1.00      0.52      0.69       941\n",
      "           1       0.00      0.00      0.00         0\n",
      "\n",
      "   micro avg       0.52      0.52      0.52       941\n",
      "   macro avg       0.50      0.26      0.34       941\n",
      "weighted avg       1.00      0.52      0.69       941\n",
      "\n"
     ]
    }
   ],
   "source": [
    "from sklearn.metrics import confusion_matrix,classification_report\n",
    "print(confusion_matrix(train['Cluster'],kmeans.labels_))\n",
    "print(classification_report(train['Cluster'],kmeans.labels_))"
   ]
  },
  {
   "cell_type": "code",
   "execution_count": null,
   "metadata": {},
   "outputs": [],
   "source": []
  }
 ],
 "metadata": {
  "kernelspec": {
   "display_name": "Python 3",
   "language": "python",
   "name": "python3"
  },
  "language_info": {
   "codemirror_mode": {
    "name": "ipython",
    "version": 3
   },
   "file_extension": ".py",
   "mimetype": "text/x-python",
   "name": "python",
   "nbconvert_exporter": "python",
   "pygments_lexer": "ipython3",
   "version": "3.7.1"
  }
 },
 "nbformat": 4,
 "nbformat_minor": 2
}
